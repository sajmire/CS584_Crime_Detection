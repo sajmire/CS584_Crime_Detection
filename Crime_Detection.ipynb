{
 "cells": [
  {
   "cell_type": "markdown",
   "metadata": {},
   "source": [
    "\n",
    "**NAME OF AUTHOR :** ABHISHEK BHARDWAJ AND SHUSHUPTI AJMIRE<br>\n",
    "**COLLEGE NAME :** ILLINOIS INSTITUTE OF TECHNOLOGY , CHICAGO<br>\n",
    "**COLLEGE ID **:A20360197 AND A20385389<br>\n",
    "**DEPARTMENT **: COMPUTATIONAL DECISION SCIENCE AND OPERATION RESEARCH<br><br>\n",
    "**FILE DESCRIPTON : **FOLLOWING WORK IS SUBMIT AS THE SOLUTION OF PROJECT CRIME PREDICTION .<br>\n",
    "**IT IS DEVIDED INTO THREE PARTS :**\n",
    "   1. FIRST PART IS THE DESCRIPTIVE STATISITCS WHERE WE EXPLAIN THE DATA PROVIDED . (EXTRA CREDIT)\n",
    "   2. SECODN PART IS FEATURE ENGINEERING (EXTRA CREDIT)\n",
    "   3. THIRD PART IS THE ACTUAL TASK GIVEN IN PROJECT DESCRIPTION"
   ]
  },
  {
   "cell_type": "code",
   "execution_count": 4,
   "metadata": {
    "collapsed": false
   },
   "outputs": [
    {
     "ename": "ImportError",
     "evalue": "cannot import name 'GaussianProcessClassifier'",
     "output_type": "error",
     "traceback": [
      "\u001b[0;31m---------------------------------------------------------------------------\u001b[0m",
      "\u001b[0;31mImportError\u001b[0m                               Traceback (most recent call last)",
      "\u001b[0;32m<ipython-input-4-c9dcf8fff131>\u001b[0m in \u001b[0;36m<module>\u001b[0;34m()\u001b[0m\n\u001b[1;32m      2\u001b[0m \u001b[1;32mimport\u001b[0m \u001b[0mpandas\u001b[0m \u001b[1;32mas\u001b[0m \u001b[0mpd\u001b[0m\u001b[1;33m\u001b[0m\u001b[0m\n\u001b[1;32m      3\u001b[0m \u001b[1;32mimport\u001b[0m \u001b[0mnumpy\u001b[0m \u001b[1;32mas\u001b[0m \u001b[0mnp\u001b[0m\u001b[1;33m\u001b[0m\u001b[0m\n\u001b[0;32m----> 4\u001b[0;31m \u001b[1;32mfrom\u001b[0m \u001b[0msklearn\u001b[0m\u001b[1;33m.\u001b[0m\u001b[0mgaussian_process\u001b[0m \u001b[1;32mimport\u001b[0m \u001b[0mGaussianProcessClassifier\u001b[0m\u001b[1;33m\u001b[0m\u001b[0m\n\u001b[0m\u001b[1;32m      5\u001b[0m \u001b[1;32mfrom\u001b[0m \u001b[0msklearn\u001b[0m\u001b[1;33m.\u001b[0m\u001b[0mgaussian_process\u001b[0m\u001b[1;33m.\u001b[0m\u001b[0mkernels\u001b[0m \u001b[1;32mimport\u001b[0m \u001b[0mRBF\u001b[0m\u001b[1;33m\u001b[0m\u001b[0m\n\u001b[1;32m      6\u001b[0m \u001b[1;32mfrom\u001b[0m \u001b[0msklearn\u001b[0m\u001b[1;33m.\u001b[0m\u001b[0mneural_network\u001b[0m \u001b[1;32mimport\u001b[0m \u001b[0mMLPClassifier\u001b[0m\u001b[1;33m\u001b[0m\u001b[0m\n",
      "\u001b[0;31mImportError\u001b[0m: cannot import name 'GaussianProcessClassifier'"
     ]
    }
   ],
   "source": [
    "# Loaaing the required libraries\n",
    "import pandas as pd\n",
    "import numpy as np\n",
    "from sklearn.gaussian_process import GaussianProcessClassifier\n",
    "from sklearn.gaussian_process.kernels import RBF\n",
    "from sklearn.neural_network import MLPClassifier\n",
    "from sklearn.grid_search import GridSearchCV\n",
    "from sklearn.grid_search import RandomizedSearchCV\n",
    "from sklearn.tree import DecisionTreeClassifier\n",
    "from sklearn import metrics\n",
    "from sklearn.metrics import mean_squared_error\n",
    "from sklearn import linear_model ,svm,cross_validation\n",
    "from sklearn.model_selection import cross_val_predict\n",
    "from sklearn.naive_bayes import GaussianNB\n",
    "from sklearn.svm import LinearSVC\n",
    "from sklearn.cross_validation import cross_val_score\n",
    "from sklearn.cross_validation import KFold\n",
    "import matplotlib.pyplot as plt\n",
    "from sklearn.preprocessing import Imputer\n",
    "from scipy.stats import chi2_contingency\n",
    "from scipy.stats import chisquare\n",
    "from sklearn.linear_model import LogisticRegression\n",
    "from sklearn.ensemble import RandomForestClassifier , AdaBoostClassifier\n",
    "from sklearn.neighbors import KNeighborsClassifier\n",
    "from IPython.display import display, HTML\n",
    "from sklearn.decomposition import PCA"
   ]
  },
  {
   "cell_type": "code",
   "execution_count": null,
   "metadata": {
    "collapsed": true
   },
   "outputs": [],
   "source": [
    "# Loading the clean data file\n",
    "df_cleanned = pd.read_csv(\"~/Desktop/ml_project/data/communities-crime-clean.csv\")\n",
    "# Chaning data type of  community name to category\n",
    "df_cleanned['communityname'] = df_cleanned['communityname'].astype('category')\n",
    "df_cleanned['state'] = df_cleanned['state'].astype('category')\n",
    "# Adding high crime variable \n",
    "df_cleanned['highCrime'] = np.where(df_cleanned['ViolentCrimesPerPop'] > 0.1, 1.0, 0.0)"
   ]
  },
  {
   "cell_type": "markdown",
   "metadata": {},
   "source": [
    "\n",
    "<h3>Chapter-1. Descriptive Statistics</h3>\n",
    "<br>\n",
    "Descriptive statistics are brief descriptive coefficients that summarize a given data set, which can be either a representation of the entire population or a sample of it. Descriptive statistics are broken down into measures of central tendency and measures of variability, or spread. Measures of central tendency include the mean, median and mode, while measures of variability include the standard deviation or variance, the minimum and maximum variables, and the kurtosis and skewness.\n",
    "<br>\n",
    "<h9>Refrence  : http://www.investopedia.com/terms/d/descriptive_statistics.asp#ixzz4f7vwxSsA </h9>\n",
    "\n"
   ]
  },
  {
   "cell_type": "code",
   "execution_count": null,
   "metadata": {
    "collapsed": false
   },
   "outputs": [],
   "source": [
    "print(\"Describing Each Variable Central Tendencies\")\n",
    "display(df_cleanned.describe())"
   ]
  },
  {
   "cell_type": "code",
   "execution_count": null,
   "metadata": {
    "collapsed": false,
    "scrolled": true
   },
   "outputs": [],
   "source": [
    "print(\"Statewise Crime\")\n",
    "df1 =df_cleanned[['state','ViolentCrimesPerPop']].groupby(['state']).mean()\n",
    "importance_vlaues = pd.DataFrame({\n",
    " 'importance':df1['ViolentCrimesPerPop'],\n",
    "'state':[\"Alabama\",\"Alaska\",\"American Samoa *\",\"Arizona\",\"Arkansas\",\"California\",\"Canal Zone *\",\"Colorado\",\"Connecticut\",\"Delaware\",\"District of Columbia\",\"Florida\",\"Georgia\",\"Guam *\",\"Hawaii\",\"Idaho\",\"Illinois\",\"Indiana\",\"Iowa\",\"Kansas\",\"Kentucky\",\"Louisiana\",\"Maine\",\"Maryland\",\"Massachusetts\",\"Michigan\",\"Minnesota\",\"Mississippi\",\"Missouri\",\"Montana\",\"Nebraska\",\"Nevada\",\"New Hampshire\",\"New Jersey\",\"New Mexico\",\"New York\",\"North Carolina\",\"North Dakota\",\"Ohio\",\"Oklahoma\",\"Oregon\",\"Pennsylvania\",\"Puerto Rico *\",\"Rhode Island\",\"South Carolina\",\"South Dakota\",\"Tennessee\",\"Texas\",\"Utah\",\"Vermont\",\"Virginia\",\"Virgin Islands of the U.S.\",\"Washington\",\"West Virginia\",\"Wisconsin\",\"Wyoming\"]\n",
    "},index=range(1, 57))\n",
    "importance_vlaues =importance_vlaues.sort_values('importance',ascending=False).head(30)\n",
    " \n",
    "objects = importance_vlaues.state\n",
    "y_pos = np.arange(len(importance_vlaues['importance']))\n",
    "performance = importance_vlaues['importance']\n",
    "plt.bar(y_pos, performance, align='center', alpha=0.5)\n",
    "plt.xticks(y_pos, objects,rotation=90)\n",
    "plt.ylabel('Avg CrimeRate')\n",
    "plt.xlabel('States')\n",
    "plt.title('Top 30 Statewise CrimeRate')\n",
    "plt.tight_layout()\n",
    "plt.show()"
   ]
  },
  {
   "cell_type": "markdown",
   "metadata": {},
   "source": [
    "**State Wise Crime Rate**<br>\n",
    "From the figure \"Top 30 Statewise CrimeRate\", we can say that District of Columbia has maximum CrimeRate of 1 and West Virginia has lowest CrimeRate of 0.25 among first 30 states arranged according to highest CrimeRate.\n",
    "We can see the listed 30 states has the maximum crime rate as compare to others. In these states likes California, Newyork also included. So, we can say that states with more opportunities, more employement also has more CrimeRate.\n",
    "\n",
    "Reasons:\n",
    "1. **Growth of unemployment**: The cost of living is rising and some people commit crimes to fulfill their desires.\n",
    "2. **Drug Addiction**: When someone addicted to drugs and unable to support their addiction financially, then mostly he ends up in a crime world to fullfill the habits.\n",
    "3. **Media Reporting**: Media is most likely to report crime rather than positive things. Negative reporting leads to viewership. So as media has grown, so is crime reporting.\n",
    "4. **Population**: Rise in population tends to limitation of resources. People are desperate to make money by hook or by crook hence, they are moving towards crime.\n",
    "5. **Availability of information to do crime**: Nowdays, Movies, TV shows and Internet gives people new ideas, new way to commit crime.\n",
    "\n"
   ]
  },
  {
   "cell_type": "code",
   "execution_count": null,
   "metadata": {
    "collapsed": false
   },
   "outputs": [],
   "source": [
    "print(\"Distribustion Plot of ViolentCrimesPerPop\")\n",
    "plt.hist(df_cleanned['ViolentCrimesPerPop'])\n",
    "plt.title(\"Distribution of ViolentCrimesPerPop\")\n",
    "plt.xlabel(\"ViolentCrimesPerPop\")\n",
    "plt.ylabel(\"Frequency\")\n",
    "plt.show()"
   ]
  },
  {
   "cell_type": "markdown",
   "metadata": {},
   "source": [
    "digfdkfdkbgjnkgl,bmgnjg'gmklnjgf'bnk;m,ngbgnmbglbmfnbfnblfn mn,bf/mn,m/emnb,grn,gl;rk.g,bnglrkgjb,g;rg,bnglrek,bfle.,le;fmvnfem.e;kjlkjbgkrl rekljergnk;rjbkle;l erjbkhfej;fjlkfjkrkl,nlekfvnmff rfkbn frjknk;rfngbkfngbk lermngb frnbmgermgnblerkgnbfeergnekng"
   ]
  },
  {
   "cell_type": "markdown",
   "metadata": {},
   "source": [
    "**Exloratory Data Analysis: Handling Outliers and NaN **"
   ]
  },
  {
   "cell_type": "markdown",
   "metadata": {},
   "source": [
    "<h3>Chapter-2. Feature Engineering</h3><br>\n",
    "Feature engineering is an informal topic, but one that is absolutely known and agreed to be key to success in applied machine learning.<br><br><center>\n",
    "\"feature engineering is another topic which doesn’t seem to merit any review papers or books, or even chapters in books, but it is absolutely vital to ML success. […] Much of the success of machine learning is actually success in engineering features that a learner can understand.\n",
    "**— Scott Locklin, in **\"</center>\n",
    "<h4>Correlation</h4>\n",
    "Correlation between sets of data is a measure of how well they are related. The most common measure of correlation in stats is the Pearson Correlation. The full name is the Pearson Product Moment Correlation or PPMC. It shows the linear relationship between two sets of data. \n",
    "<center><img src=\"http://www.statisticshowto.com/wp-content/uploads/2012/10/pearson-300x156.gif\"  height=\"200\" width=\"200\"></center>\n",
    "High correlation: .5 to 1.0 or -0.5 to 1.0.<br>\n",
    "Medium correlation: .3 to .5 or -0.3 to .5.<br>\n",
    "Low correlation: .1 to .3 or -0.1 to -0.3.<br>"
   ]
  },
  {
   "cell_type": "code",
   "execution_count": 252,
   "metadata": {
    "collapsed": false
   },
   "outputs": [
    {
     "name": "stdout",
     "output_type": "stream",
     "text": [
      "Varibles Directly Correlated with ViolentCrimesPerPop\n",
      " ['racepctblack', 'pctWPubAsst', 'NumUnderPov', 'PctPopUnderPov', 'PctLess9thGrade', 'PctNotHSGrad', 'PctUnemployed', 'MalePctDivorce', 'FemalePctDiv', 'TotalPctDiv', 'NumIlleg', 'PctIlleg', 'PctPersDenseHous', 'PctHousLess3BR', 'HousVacant', 'PctVacantBoarded', 'PctHousNoPhone', 'ViolentCrimesPerPop', 'highCrime']\n",
      "*******************************************************************************\n",
      "Varibles Inversly Correlated with ViolentCrimesPerPop\n",
      " ['racePctWhite', 'medIncome', 'pctWInvInc', 'medFamInc', 'PctFam2Par', 'PctKids2Par', 'PctYoungKids2Par', 'PctTeen2Par', 'PctPersOwnOccup', 'PctHousOwnOcc']\n"
     ]
    }
   ],
   "source": [
    "correlation = df_cleanned.corr(method='pearson')['ViolentCrimesPerPop']\n",
    "correlation = pd.DataFrame({\n",
    "    \"corvalue\":list(correlation),\n",
    "    \"variable\":list(correlation.index)\n",
    "})\n",
    "correlated_variable =list(correlation[correlation['corvalue'] > 0.4 ]['variable'])\n",
    "inversely_correlated_variable =list(correlation[correlation['corvalue'] < -0.4 ]['variable'])\n",
    "\n",
    "print(\"Varibles Directly Correlated with ViolentCrimesPerPop\\n\",correlated_variable)\n",
    "print(\"*******************************************************************************\")\n",
    "print(\"Varibles Inversly Correlated with ViolentCrimesPerPop\\n\",inversely_correlated_variable)"
   ]
  },
  {
   "cell_type": "markdown",
   "metadata": {},
   "source": [
    "<h4>Chi-Squared Test of Independence</h4>\n",
    "\n",
    "Independence is a key concept in probability that describes a situation where knowing the value of one variable tells you nothing about the value of another. For instance, the month you were born probably doesn't tell you anything which web browser you use, so we'd expect birth month and browser preference to be independent. On the other hand, your month of birth might be related to whether you excelled at sports in school, so month of birth and sports performance might not be independent.\n",
    "The chi-squared test of independence tests whether two categorical variables are independent. The test of independence is commonly used to determine whether variables like education, political views and other preferences vary based on demographic factors like gender, race and religion. \n"
   ]
  },
  {
   "cell_type": "code",
   "execution_count": 146,
   "metadata": {
    "collapsed": false
   },
   "outputs": [
    {
     "data": {
      "text/plain": [
       "(5068.4577897454665,\n",
       " 3.869262596710509e-13,\n",
       " 4365,\n",
       " array([[  2.15755143e-01,   8.19869543e-01,   1.59658806e+00, ...,\n",
       "           2.15755143e-02,   4.31510286e-02,   9.49322629e-01],\n",
       "        [  1.50526844e-02,   5.72002007e-02,   1.11389865e-01, ...,\n",
       "           1.50526844e-03,   3.01053688e-03,   6.62318113e-02],\n",
       "        [  1.00351229e-01,   3.81334671e-01,   7.42599097e-01, ...,\n",
       "           1.00351229e-02,   2.00702459e-02,   4.41545409e-01],\n",
       "        ..., \n",
       "        [  7.02458605e-02,   2.66934270e-01,   5.19819368e-01, ...,\n",
       "           7.02458605e-03,   1.40491721e-02,   3.09081786e-01],\n",
       "        [  3.01053688e-01,   1.14400401e+00,   2.22779729e+00, ...,\n",
       "           3.01053688e-02,   6.02107376e-02,   1.32463623e+00],\n",
       "        [  3.51229303e-02,   1.33467135e-01,   2.59909684e-01, ...,\n",
       "           3.51229303e-03,   7.02458605e-03,   1.54540893e-01]]))"
      ]
     },
     "execution_count": 146,
     "metadata": {},
     "output_type": "execute_result"
    }
   ],
   "source": [
    "\n",
    "\n",
    "\"\"\"\"\"\"chi2_contingency(pd.crosstab(df_cleanned['state'],df_cleanned['ViolentCrimesPerPop']))\n",
    "chi2_contingency(pd.crosstab(df_cleanned['communityname'],df_cleanned['ViolentCrimesPerPop']))"
   ]
  },
  {
   "cell_type": "markdown",
   "metadata": {},
   "source": [
    "<h4>Principal Analysis Component</h4>\n",
    "Principal components analysis is a procedure for identifying a smaller number of uncorrelated variables, called \"principal components\", from a large set of data. The goal of principal components analysis is to explain the maximum amount of variance with the fewest number of principal components. Principal components analysis is commonly used in the social sciences, market research, and other industries that use large data sets.\n",
    "\n",
    "Principal components analysis is commonly used as one step in a series of analyses. You can use principal components analysis to reduce the number of variables and avoid multicollinearity, or when you have too many predictors relative to the number of observations."
   ]
  },
  {
   "cell_type": "code",
   "execution_count": 158,
   "metadata": {
    "collapsed": false
   },
   "outputs": [
    {
     "data": {
      "image/png": "[encoded data removed]",
      "text/plain": [
       "<matplotlib.figure.Figure at 0x103265ba8>"
      ]
     },
     "metadata": {},
     "output_type": "display_data"
    }
   ],
   "source": [
    "X = df_cleanned[['state', 'population', 'householdsize', 'racepctblack', 'racePctWhite', 'racePctAsian', 'racePctHisp', 'agePct12t21', 'agePct12t29', 'agePct16t24', 'agePct65up', 'numbUrban', 'pctUrban', 'medIncome', 'pctWWage', 'pctWFarmSelf', 'pctWInvInc', 'pctWSocSec', 'pctWPubAsst', 'pctWRetire', 'medFamInc', 'perCapInc', 'whitePerCap', 'blackPerCap', 'indianPerCap', 'AsianPerCap', 'OtherPerCap', 'HispPerCap', 'NumUnderPov', 'PctPopUnderPov', 'PctLess9thGrade', 'PctNotHSGrad', 'PctBSorMore', 'PctUnemployed', 'PctEmploy', 'PctEmplManu', 'PctEmplProfServ', 'PctOccupManu', 'PctOccupMgmtProf', 'MalePctDivorce', 'MalePctNevMarr', 'FemalePctDiv', 'TotalPctDiv', 'PersPerFam', 'PctFam2Par', 'PctKids2Par', 'PctYoungKids2Par', 'PctTeen2Par', 'PctWorkMomYoungKids', 'PctWorkMom', 'NumIlleg', 'PctIlleg', 'NumImmig', 'PctImmigRecent', 'PctImmigRec5', 'PctImmigRec8', 'PctImmigRec10', 'PctRecentImmig', 'PctRecImmig5', 'PctRecImmig8', 'PctRecImmig10', 'PctSpeakEnglOnly', 'PctNotSpeakEnglWell', 'PctLargHouseFam', 'PctLargHouseOccup', 'PersPerOccupHous', 'PersPerOwnOccHous', 'PersPerRentOccHous', 'PctPersOwnOccup', 'PctPersDenseHous', 'PctHousLess3BR', 'MedNumBR', 'HousVacant', 'PctHousOccup', 'PctHousOwnOcc', 'PctVacantBoarded', 'PctVacMore6Mos', 'MedYrHousBuilt', 'PctHousNoPhone', 'PctWOFullPlumb', 'OwnOccLowQuart', 'OwnOccMedVal', 'OwnOccHiQuart', 'RentLowQ', 'RentMedian', 'RentHighQ', 'MedRent', 'MedRentPctHousInc', 'MedOwnCostPctInc', 'MedOwnCostPctIncNoMtg', 'NumInShelters', 'NumStreet', 'PctForeignBorn', 'PctBornSameState', 'PctSameHouse85', 'PctSameCity85', 'PctSameState85', 'LandArea', 'PopDens', 'PctUsePubTrans', 'LemasPctOfficDrugUn']]\n",
    "pca = PCA().fit(X)\n",
    "var1=np.cumsum(np.round(pca.explained_variance_ratio_, decimals=4)*100)\n",
    "plt.plot(var1)\n",
    "plt.show()\n"
   ]
  },
  {
   "cell_type": "code",
   "execution_count": 164,
   "metadata": {
    "collapsed": true
   },
   "outputs": [],
   "source": [
    "pca = PCA(n_components=30)\n",
    "pca.fit(X)\n",
    "X_modified=pca.fit_transform(X)"
   ]
  },
  {
   "cell_type": "markdown",
   "metadata": {},
   "source": [
    "<h4>Conclusion</h4>\n",
    "We here idenifited\n",
    "1. 29 Important features (using correlation i.e. 19 directly and 10 inversly correlated  \n",
    "2. Using Chisq test we could observe stat and community doen't play a crucial role in explaining the variablity of ViolentCrimesPerPop\n",
    "3. We also build a new features from PCA (uning 30 componets as 30 components explain the variablitiy of data)."
   ]
  },
  {
   "cell_type": "markdown",
   "metadata": {},
   "source": [
    "<h3>Chapter-3. Project Task</h3>\n",
    "\n",
    "**Task - I : Decision Tree**<br>\n",
    "Decision tree learning uses a decision tree as a predictive model which maps observations about an item (represented in the branches) to conclusions about the item's target value (represented in the leaves). It is one of the predictive modelling approaches used in statistics, data mining and machine learning. Tree models where the target variable can take a finite set of values are called classification trees; in these tree structures, leaves represent class labels and branches represent conjunctions of features that lead to those class labels. <br>\n",
    "**Mathematical Intuition :** Algorithms for constructing decision trees usually work top-down, by choosing a variable at each step that best splits the set of items. To find that variable we calculagte Ingormation gain . To compute that we can use many measures but generally Gini-Index or entropy are used .<br>\n",
    "First one is **Gini-Index** is defined as a measure of how often a randomly chosen element from the set would be incorrectly labeled if it was randomly labeled according to the distribution of labels in the subset. Gini impurity can be computed by the following formula (where i varies over all the classes) :-\n",
    "<br>$$GINI-INDEX(E)=1-\\sum_{i=1}^C \\Pr(class=i)$$ where i varies over all the classes\n",
    "<br>\n",
    "<br>Second one is **Entropy** is defined as a measure of randomness and can be computed by the following formula(where i varies over all the classes) .:-\n",
    "<br>$$Entropy(E)=-\\sum_{i=1}^C \\Pr(class=i)\\log_2\\Pr(class=i)$$\n",
    "\n",
    "Based on above indexies **Information gain (IG) ** can be computes as follows :<br>\n",
    "**Information Gain = Entropy(parent) - Weighted Sum of Entropy(Children)**\n",
    "<br>or<br>\n",
    "\n",
    "**Information Gain = GINI-INDEX(parent) - Weighted Sum of GINI-INDEX(Children)**\n",
    "\n",
    "So feature with high information gain is choosen as the decison node and so on the decision is created.\n"
   ]
  },
  {
   "cell_type": "markdown",
   "metadata": {},
   "source": [
    "\n",
    "**Truth Perectange** is defined as : $\\dfrac{True Datapoints}{Total Number of Datapoints}$<br>\n",
    "**Fasle Perectange** is defined as : $\\dfrac{False Datapoints}{Total Number of Datapoints}$\n"
   ]
  },
  {
   "cell_type": "code",
   "execution_count": 57,
   "metadata": {
    "collapsed": false
   },
   "outputs": [
    {
     "name": "stdout",
     "output_type": "stream",
     "text": [
      "1a.\n",
      "Truth Percentage is : 62.72 %\n",
      "False Percentage is : 37.28 %\n"
     ]
    }
   ],
   "source": [
    "TRUTH_CLENNED_PERCENTAGE= sum(df_cleanned['highCrime'])*100.0/len(df_cleanned)\n",
    "FALSE_CLENNED_PERCENTAGE=  100.0-TRUTH_CLENNED_PERCENTAGE\n",
    "print(\"1a.\")\n",
    "print(\"Truth Percentage is :\",round(TRUTH_CLENNED_PERCENTAGE,3),\"%\")\n",
    "print(\"False Percentage is :\" ,round(FALSE_CLENNED_PERCENTAGE,3),\"%\")"
   ]
  },
  {
   "cell_type": "markdown",
   "metadata": {},
   "source": [
    "**Confusion Matrix**<br>\n",
    "A confusion matrix contains information about actual and predicted classifications done by a classification system. Performance of such systems is commonly evaluated using the data in the matrix. The following table shows the confusion matrix for a two class classifier.Following Image explain the true meaning of confusion matrix.<br>\n",
    "<img src=\"http://rasbt.github.io/mlxtend/user_guide/evaluate/confusion_matrix_files/confusion_matrix_1.png\"  height=\"200\" width=\"200\">\n",
    "<br><center><b>Fig-1 \"Confustion Matrix \"</b></center>\n",
    "<br>**Accuracy** <br>The accuracy is the proportion of the total number of predictions that were correct. It is determined using the equation :  $\\dfrac{TP+FP}{TP+FP+TN+FN}$\n",
    "<br>**Precision** <br>Tprecision (P) is the proportion of the predicted positive cases that were correct, as calculated using the equation : $\\dfrac{TP}{TP+TN}$\n",
    "<br>**Recall** <br>The recall or true positive rate (TP) is the proportion of positive cases that were correctly identified, as calculated using the equation: $\\dfrac{TP}{TP+FP}$"
   ]
  },
  {
   "cell_type": "code",
   "execution_count": 61,
   "metadata": {
    "collapsed": false
   },
   "outputs": [
    {
     "name": "stdout",
     "output_type": "stream",
     "text": [
      "1b.(i)  Traindata and Testdata are same \n",
      "\t\tConfusion Matrix\n",
      "\t\t\t\t|Predicted False | Predicted True\n",
      "\t\t--------------------------------------------------|\n",
      "\t\t|Acutal Fasle\t| 743 \t\t |\t 0\n",
      "\t\t|Actual True\t| 0 \t\t |\t 1250\n",
      "\t\t--------------------------------------------------|\n",
      "\t\ta. Accuracy :  100.0 % \n",
      "\t\tb. Precision :  100.0 %\n",
      "\t\tc. Recall :  100.0 %\n"
     ]
    }
   ],
   "source": [
    "clf = DecisionTreeClassifier(random_state=0)\n",
    "X = df_cleanned[['state', 'population', 'householdsize', 'racepctblack', 'racePctWhite', 'racePctAsian', 'racePctHisp', 'agePct12t21', 'agePct12t29', 'agePct16t24', 'agePct65up', 'numbUrban', 'pctUrban', 'medIncome', 'pctWWage', 'pctWFarmSelf', 'pctWInvInc', 'pctWSocSec', 'pctWPubAsst', 'pctWRetire', 'medFamInc', 'perCapInc', 'whitePerCap', 'blackPerCap', 'indianPerCap', 'AsianPerCap', 'OtherPerCap', 'HispPerCap', 'NumUnderPov', 'PctPopUnderPov', 'PctLess9thGrade', 'PctNotHSGrad', 'PctBSorMore', 'PctUnemployed', 'PctEmploy', 'PctEmplManu', 'PctEmplProfServ', 'PctOccupManu', 'PctOccupMgmtProf', 'MalePctDivorce', 'MalePctNevMarr', 'FemalePctDiv', 'TotalPctDiv', 'PersPerFam', 'PctFam2Par', 'PctKids2Par', 'PctYoungKids2Par', 'PctTeen2Par', 'PctWorkMomYoungKids', 'PctWorkMom', 'NumIlleg', 'PctIlleg', 'NumImmig', 'PctImmigRecent', 'PctImmigRec5', 'PctImmigRec8', 'PctImmigRec10', 'PctRecentImmig', 'PctRecImmig5', 'PctRecImmig8', 'PctRecImmig10', 'PctSpeakEnglOnly', 'PctNotSpeakEnglWell', 'PctLargHouseFam', 'PctLargHouseOccup', 'PersPerOccupHous', 'PersPerOwnOccHous', 'PersPerRentOccHous', 'PctPersOwnOccup', 'PctPersDenseHous', 'PctHousLess3BR', 'MedNumBR', 'HousVacant', 'PctHousOccup', 'PctHousOwnOcc', 'PctVacantBoarded', 'PctVacMore6Mos', 'MedYrHousBuilt', 'PctHousNoPhone', 'PctWOFullPlumb', 'OwnOccLowQuart', 'OwnOccMedVal', 'OwnOccHiQuart', 'RentLowQ', 'RentMedian', 'RentHighQ', 'MedRent', 'MedRentPctHousInc', 'MedOwnCostPctInc', 'MedOwnCostPctIncNoMtg', 'NumInShelters', 'NumStreet', 'PctForeignBorn', 'PctBornSameState', 'PctSameHouse85', 'PctSameCity85', 'PctSameState85', 'LandArea', 'PopDens', 'PctUsePubTrans', 'LemasPctOfficDrugUn']]\n",
    "Y = list(df_cleanned[['highCrime']].values.flatten())\n",
    "clf = clf.fit(X,Y)\n",
    "confusionmatrix = metrics.confusion_matrix(clf.predict(X) ,Y)\n",
    "accuracy =metrics.accuracy_score(clf.predict(X) ,Y)\n",
    "precision =metrics.precision_score(clf.predict(X) ,Y)\n",
    "recall = metrics.precision_score(clf.predict(X) ,Y)\n",
    "print(\"1b.(i)  Traindata and Testdata are same \")\n",
    "print(\"\\t\\tConfusion Matrix\")\n",
    "print(\"\\t\\t\\t\\t|Predicted False\",\"| Predicted True\")\n",
    "print(\"\\t\\t--------------------------------------------------|\")\n",
    "print(\"\\t\\t|Acutal Fasle\\t|\",confusionmatrix[0][0],\"\\t\\t |\\t\",confusionmatrix[0][1])\n",
    "print(\"\\t\\t|Actual True\\t|\",confusionmatrix[1][0],\"\\t\\t |\\t\",confusionmatrix[1][1])\n",
    "print(\"\\t\\t--------------------------------------------------|\")\n",
    "print(\"\\t\\ta. Accuracy : \",accuracy*100.0,\"% \")\n",
    "print(\"\\t\\tb. Precision : \",precision*100.0,\"%\")\n",
    "print(\"\\t\\tc. Recall : \",recall*100.0,\"%\")"
   ]
  },
  {
   "cell_type": "markdown",
   "metadata": {},
   "source": [
    "Since the the accuracy is 100% on the train data it means the algorithm is overfitting .\n"
   ]
  },
  {
   "cell_type": "markdown",
   "metadata": {},
   "source": [
    "**Importance of Features**\n",
    "Importance of features as defined by Sci-kit Learn library is based on gini importance and is computed as the (normalized) total reduction of the criterion brought by that feature.\n"
   ]
  },
  {
   "cell_type": "code",
   "execution_count": 46,
   "metadata": {
    "collapsed": false
   },
   "outputs": [
    {
     "data": {
      "image/png": "[encoded data removed]",
      "text/plain": [
       "<matplotlib.figure.Figure at 0x1094c4cf8>"
      ]
     },
     "metadata": {},
     "output_type": "display_data"
    }
   ],
   "source": [
    "# %matplotlib notebook\n",
    "importance_vlaues = pd.DataFrame({\n",
    " 'importance':clf.feature_importances_\n",
    "},index=list(X))\n",
    "\n",
    "\n",
    "importance_vlaues =importance_vlaues.sort_values('importance',ascending=False).head(30)\n",
    " \n",
    "objects = importance_vlaues.index\n",
    "y_pos = np.arange(len(importance_vlaues['importance']))\n",
    "performance = importance_vlaues['importance']\n",
    " \n",
    "plt.bar(y_pos, performance, align='center', alpha=0.5)\n",
    "plt.xticks(y_pos, objects,rotation=90)\n",
    "plt.ylabel('Importance')\n",
    "plt.xlabel('Varibles')\n",
    "plt.title('Importance of Top 30 variables')\n",
    "plt.tight_layout()\n",
    "plt.show()"
   ]
  },
  {
   "cell_type": "markdown",
   "metadata": {},
   "source": [
    "**1b. (ii)**\n",
    "<br>These are the 10 most important features in Decision Tree Classification.This calculation is based on Geni Index value of that feature and calculated as the (normalized) total reduction of the criterion brought by that feature. Here, **PctKids2Par** has the heighest Geni Index value and **PctImmigRecent** has lowest value. These features hepls to classifi the model efficiently to predict the highCrime. Description for each feature is given below:\n",
    "<br>**PctKids2Par** : It is the percentage of  kids in the family housing  with two parents.\n",
    "<br>This is the most important feature according to the implementatiom. Reason behind this may be children with two parents come from highly educated family, tends to low rate of crime.\n",
    "<br>\n",
    "<br>**racePctWhite** : It is the percentage of  population that is caucasian (i.e. european orgin - White Skinned)\n",
    "<br>There is racial descrimination so, it tends to be the imporatant feature in detection crime rate.\n",
    "<br>\n",
    "<br>**racePctHisp** : It is the percentage of population that is of hispanic heritage(i.e broadly refers to the people who have historical link to spain.\n",
    "<br> This is also gives us the description about race, hence it is imporatant.\n",
    "<br>\n",
    "<br>**PctEmplManu** : It is the percentage of people of age 16 and above who are employeed in manufacturing\n",
    "<br>This gives us the inforamtion about employement and employments plays imporatant role in detecting crime rate, as unemployement provokes towards crime. Also, Employedd in manufaturing means people mostly involved in Labour work.\n",
    "<br>\n",
    "<br>**PctLess9thGrade** : It is the percentage of people of age 25 and above with less than 9th grade education\n",
    "<br> This gives information about youth who are with less than 9th grade education. Less the education, more the chances of falling into crime world. Hence this is also an imporatant feature.\n",
    "<br>\n",
    "<br>**HousVacant** : It is the number of vacant(empty) housholdes\n",
    "<br>This gives idea about empty location. This also one of imporatant feature as more or sometimes no crime happens in empty area.\n",
    "<br>\n",
    "<br>**PctSameState85** : It is the percentage of people living in the same State as in year 1985 (5 years before)\n",
    "<br>This is the number of people who are living in same area for 5 years. So, these people are living there, they knows the condition there. Hence, This can also be an feature deciding Crime Rate.\n",
    "<br>\n",
    "<br>**PctHousOwnOcc** : It is the percentage of households owner occupied\n",
    "<br>People will buy house in the safer area. Percentage of Households owner shows that there may be less crime. Hence it can be a deciding feature.\n",
    "<br>\n",
    "<br>**state** : US States\n",
    "<br> Some states are famous for crime, so it can be a deciding factor in some amount.\n",
    "<br>\n",
    "<br>**PctUnemployed**: It is the percentage of people of age 16 and above who are in the labor force and unemployed.\n",
    "<br>This gives information about unemployed people which is the most imporatant factor for crime, Hence this can be the factor."
   ]
  },
  {
   "cell_type": "markdown",
   "metadata": {},
   "source": [
    "**Cross Validation**\n",
    "\n",
    "Cross validation is a model evaluation method that is better than residuals. The problem with residual evaluations is that they do not give an indication of how well the learner will do when it is asked to make new predictions for data it has not already seen. One way to overcome this problem is to not use the entire data set when training a learner. Some of the data is removed before training begins. Then when training is done, the data that was removed can be used to test the performance of the learned model on new data. This is the basic idea for a whole class of model evaluation methods called cross validation.\n",
    "\n",
    "**K-fold **cross validation is one way to improve over the holdout method. The data set is divided into k subsets, and the holdout method is repeated k times. Each time, one of the k subsets is used as the test set and the other k-1 subsets are put together to form a training set. Then the average error across all k trials is computed. The advantage of this method is that it matters less how the data gets divided. Every data point gets to be in a test set exactly once, and gets to be in a training set k-1 times. The variance of the resulting estimate is reduced as k is increased. The disadvantage of this method is that the training algorithm has to be rerun from scratch k times, which means it takes k times as much computation to make an evaluation. A variant of this method is to randomly divide the data into a test and training set k different times. The advantage of doing this is that you can independently choose how large each test set is and how many trials you average over. Image below gives a better view of k-fold cross validation\n",
    "<img src=\"https://upload.wikimedia.org/wikipedia/commons/1/1c/K-fold_cross_validation_EN.jpg\"  height=\"400\" width=\"400\"><br><b><center>Fig-2 Example of K=4 fold Cross Vadilation</b></center>"
   ]
  },
  {
   "cell_type": "code",
   "execution_count": 172,
   "metadata": {
    "collapsed": false
   },
   "outputs": [
    {
     "name": "stderr",
     "output_type": "stream",
     "text": [
      "/usr/local/lib/python3.6/site-packages/sklearn/utils/validation.py:526: DataConversionWarning: A column-vector y was passed when a 1d array was expected. Please change the shape of y to (n_samples, ), for example using ravel().\n",
      "  y = column_or_1d(y, warn=True)\n",
      "/usr/local/lib/python3.6/site-packages/sklearn/utils/validation.py:526: DataConversionWarning: A column-vector y was passed when a 1d array was expected. Please change the shape of y to (n_samples, ), for example using ravel().\n",
      "  y = column_or_1d(y, warn=True)\n",
      "/usr/local/lib/python3.6/site-packages/sklearn/utils/validation.py:526: DataConversionWarning: A column-vector y was passed when a 1d array was expected. Please change the shape of y to (n_samples, ), for example using ravel().\n",
      "  y = column_or_1d(y, warn=True)\n",
      "/usr/local/lib/python3.6/site-packages/sklearn/utils/validation.py:526: DataConversionWarning: A column-vector y was passed when a 1d array was expected. Please change the shape of y to (n_samples, ), for example using ravel().\n",
      "  y = column_or_1d(y, warn=True)\n",
      "/usr/local/lib/python3.6/site-packages/sklearn/utils/validation.py:526: DataConversionWarning: A column-vector y was passed when a 1d array was expected. Please change the shape of y to (n_samples, ), for example using ravel().\n",
      "  y = column_or_1d(y, warn=True)\n",
      "/usr/local/lib/python3.6/site-packages/sklearn/utils/validation.py:526: DataConversionWarning: A column-vector y was passed when a 1d array was expected. Please change the shape of y to (n_samples, ), for example using ravel().\n",
      "  y = column_or_1d(y, warn=True)\n",
      "/usr/local/lib/python3.6/site-packages/sklearn/utils/validation.py:526: DataConversionWarning: A column-vector y was passed when a 1d array was expected. Please change the shape of y to (n_samples, ), for example using ravel().\n",
      "  y = column_or_1d(y, warn=True)\n",
      "/usr/local/lib/python3.6/site-packages/sklearn/utils/validation.py:526: DataConversionWarning: A column-vector y was passed when a 1d array was expected. Please change the shape of y to (n_samples, ), for example using ravel().\n",
      "  y = column_or_1d(y, warn=True)\n",
      "/usr/local/lib/python3.6/site-packages/sklearn/utils/validation.py:526: DataConversionWarning: A column-vector y was passed when a 1d array was expected. Please change the shape of y to (n_samples, ), for example using ravel().\n",
      "  y = column_or_1d(y, warn=True)\n",
      "/usr/local/lib/python3.6/site-packages/sklearn/utils/validation.py:526: DataConversionWarning: A column-vector y was passed when a 1d array was expected. Please change the shape of y to (n_samples, ), for example using ravel().\n",
      "  y = column_or_1d(y, warn=True)\n",
      "/usr/local/lib/python3.6/site-packages/sklearn/utils/validation.py:526: DataConversionWarning: A column-vector y was passed when a 1d array was expected. Please change the shape of y to (n_samples, ), for example using ravel().\n",
      "  y = column_or_1d(y, warn=True)\n",
      "/usr/local/lib/python3.6/site-packages/sklearn/utils/validation.py:526: DataConversionWarning: A column-vector y was passed when a 1d array was expected. Please change the shape of y to (n_samples, ), for example using ravel().\n",
      "  y = column_or_1d(y, warn=True)\n",
      "/usr/local/lib/python3.6/site-packages/sklearn/utils/validation.py:526: DataConversionWarning: A column-vector y was passed when a 1d array was expected. Please change the shape of y to (n_samples, ), for example using ravel().\n",
      "  y = column_or_1d(y, warn=True)\n",
      "/usr/local/lib/python3.6/site-packages/sklearn/utils/validation.py:526: DataConversionWarning: A column-vector y was passed when a 1d array was expected. Please change the shape of y to (n_samples, ), for example using ravel().\n",
      "  y = column_or_1d(y, warn=True)\n",
      "/usr/local/lib/python3.6/site-packages/sklearn/utils/validation.py:526: DataConversionWarning: A column-vector y was passed when a 1d array was expected. Please change the shape of y to (n_samples, ), for example using ravel().\n",
      "  y = column_or_1d(y, warn=True)\n",
      "/usr/local/lib/python3.6/site-packages/sklearn/utils/validation.py:526: DataConversionWarning: A column-vector y was passed when a 1d array was expected. Please change the shape of y to (n_samples, ), for example using ravel().\n",
      "  y = column_or_1d(y, warn=True)\n",
      "/usr/local/lib/python3.6/site-packages/sklearn/utils/validation.py:526: DataConversionWarning: A column-vector y was passed when a 1d array was expected. Please change the shape of y to (n_samples, ), for example using ravel().\n",
      "  y = column_or_1d(y, warn=True)\n",
      "/usr/local/lib/python3.6/site-packages/sklearn/utils/validation.py:526: DataConversionWarning: A column-vector y was passed when a 1d array was expected. Please change the shape of y to (n_samples, ), for example using ravel().\n",
      "  y = column_or_1d(y, warn=True)\n",
      "/usr/local/lib/python3.6/site-packages/sklearn/utils/validation.py:526: DataConversionWarning: A column-vector y was passed when a 1d array was expected. Please change the shape of y to (n_samples, ), for example using ravel().\n",
      "  y = column_or_1d(y, warn=True)\n",
      "/usr/local/lib/python3.6/site-packages/sklearn/utils/validation.py:526: DataConversionWarning: A column-vector y was passed when a 1d array was expected. Please change the shape of y to (n_samples, ), for example using ravel().\n",
      "  y = column_or_1d(y, warn=True)\n",
      "/usr/local/lib/python3.6/site-packages/sklearn/utils/validation.py:526: DataConversionWarning: A column-vector y was passed when a 1d array was expected. Please change the shape of y to (n_samples, ), for example using ravel().\n",
      "  y = column_or_1d(y, warn=True)\n",
      "/usr/local/lib/python3.6/site-packages/sklearn/utils/validation.py:526: DataConversionWarning: A column-vector y was passed when a 1d array was expected. Please change the shape of y to (n_samples, ), for example using ravel().\n",
      "  y = column_or_1d(y, warn=True)\n",
      "/usr/local/lib/python3.6/site-packages/sklearn/utils/validation.py:526: DataConversionWarning: A column-vector y was passed when a 1d array was expected. Please change the shape of y to (n_samples, ), for example using ravel().\n",
      "  y = column_or_1d(y, warn=True)\n",
      "/usr/local/lib/python3.6/site-packages/sklearn/utils/validation.py:526: DataConversionWarning: A column-vector y was passed when a 1d array was expected. Please change the shape of y to (n_samples, ), for example using ravel().\n",
      "  y = column_or_1d(y, warn=True)\n",
      "/usr/local/lib/python3.6/site-packages/sklearn/utils/validation.py:526: DataConversionWarning: A column-vector y was passed when a 1d array was expected. Please change the shape of y to (n_samples, ), for example using ravel().\n",
      "  y = column_or_1d(y, warn=True)\n",
      "/usr/local/lib/python3.6/site-packages/sklearn/utils/validation.py:526: DataConversionWarning: A column-vector y was passed when a 1d array was expected. Please change the shape of y to (n_samples, ), for example using ravel().\n",
      "  y = column_or_1d(y, warn=True)\n",
      "/usr/local/lib/python3.6/site-packages/sklearn/utils/validation.py:526: DataConversionWarning: A column-vector y was passed when a 1d array was expected. Please change the shape of y to (n_samples, ), for example using ravel().\n",
      "  y = column_or_1d(y, warn=True)\n",
      "/usr/local/lib/python3.6/site-packages/sklearn/utils/validation.py:526: DataConversionWarning: A column-vector y was passed when a 1d array was expected. Please change the shape of y to (n_samples, ), for example using ravel().\n",
      "  y = column_or_1d(y, warn=True)\n"
     ]
    },
    {
     "name": "stdout",
     "output_type": "stream",
     "text": [
      "1c.(i)\n"
     ]
    },
    {
     "name": "stderr",
     "output_type": "stream",
     "text": [
      "/usr/local/lib/python3.6/site-packages/sklearn/utils/validation.py:526: DataConversionWarning: A column-vector y was passed when a 1d array was expected. Please change the shape of y to (n_samples, ), for example using ravel().\n",
      "  y = column_or_1d(y, warn=True)\n",
      "/usr/local/lib/python3.6/site-packages/sklearn/utils/validation.py:526: DataConversionWarning: A column-vector y was passed when a 1d array was expected. Please change the shape of y to (n_samples, ), for example using ravel().\n",
      "  y = column_or_1d(y, warn=True)\n"
     ]
    },
    {
     "data": {
      "text/html": [
       "<div>\n",
       "<table border=\"1\" class=\"dataframe\">\n",
       "  <thead>\n",
       "    <tr style=\"text-align: right;\">\n",
       "      <th></th>\n",
       "      <th>CV Accuracy</th>\n",
       "      <th>CV Precision</th>\n",
       "      <th>CV Recall</th>\n",
       "      <th>Fold Number</th>\n",
       "    </tr>\n",
       "  </thead>\n",
       "  <tbody>\n",
       "    <tr>\n",
       "      <th>0</th>\n",
       "      <td>0.785000</td>\n",
       "      <td>0.887417</td>\n",
       "      <td>0.830303</td>\n",
       "      <td>1</td>\n",
       "    </tr>\n",
       "    <tr>\n",
       "      <th>1</th>\n",
       "      <td>0.800000</td>\n",
       "      <td>0.877907</td>\n",
       "      <td>0.889535</td>\n",
       "      <td>2</td>\n",
       "    </tr>\n",
       "    <tr>\n",
       "      <th>2</th>\n",
       "      <td>0.760000</td>\n",
       "      <td>0.822222</td>\n",
       "      <td>0.805755</td>\n",
       "      <td>3</td>\n",
       "    </tr>\n",
       "    <tr>\n",
       "      <th>3</th>\n",
       "      <td>0.693467</td>\n",
       "      <td>0.748031</td>\n",
       "      <td>0.771654</td>\n",
       "      <td>4</td>\n",
       "    </tr>\n",
       "    <tr>\n",
       "      <th>4</th>\n",
       "      <td>0.643216</td>\n",
       "      <td>0.679245</td>\n",
       "      <td>0.647619</td>\n",
       "      <td>5</td>\n",
       "    </tr>\n",
       "    <tr>\n",
       "      <th>5</th>\n",
       "      <td>0.628141</td>\n",
       "      <td>0.567308</td>\n",
       "      <td>0.648352</td>\n",
       "      <td>6</td>\n",
       "    </tr>\n",
       "    <tr>\n",
       "      <th>6</th>\n",
       "      <td>0.733668</td>\n",
       "      <td>0.758333</td>\n",
       "      <td>0.778761</td>\n",
       "      <td>7</td>\n",
       "    </tr>\n",
       "    <tr>\n",
       "      <th>7</th>\n",
       "      <td>0.693467</td>\n",
       "      <td>0.653465</td>\n",
       "      <td>0.731183</td>\n",
       "      <td>8</td>\n",
       "    </tr>\n",
       "    <tr>\n",
       "      <th>8</th>\n",
       "      <td>0.758794</td>\n",
       "      <td>0.905109</td>\n",
       "      <td>0.810458</td>\n",
       "      <td>9</td>\n",
       "    </tr>\n",
       "    <tr>\n",
       "      <th>9</th>\n",
       "      <td>0.633166</td>\n",
       "      <td>0.546875</td>\n",
       "      <td>0.804348</td>\n",
       "      <td>10</td>\n",
       "    </tr>\n",
       "  </tbody>\n",
       "</table>\n",
       "</div>"
      ],
      "text/plain": [
       "   CV Accuracy  CV Precision  CV Recall  Fold Number\n",
       "0     0.785000      0.887417   0.830303            1\n",
       "1     0.800000      0.877907   0.889535            2\n",
       "2     0.760000      0.822222   0.805755            3\n",
       "3     0.693467      0.748031   0.771654            4\n",
       "4     0.643216      0.679245   0.647619            5\n",
       "5     0.628141      0.567308   0.648352            6\n",
       "6     0.733668      0.758333   0.778761            7\n",
       "7     0.693467      0.653465   0.731183            8\n",
       "8     0.758794      0.905109   0.810458            9\n",
       "9     0.633166      0.546875   0.804348           10"
      ]
     },
     "metadata": {},
     "output_type": "display_data"
    },
    {
     "name": "stdout",
     "output_type": "stream",
     "text": [
      "a. Avg. Accuracy :  71.2891959799 % \n",
      "b. Avg. Precision :  74.4591405782 % \n",
      "c. Avg. Recall :  77.1796674906 % \n"
     ]
    }
   ],
   "source": [
    "cv = KFold(X.shape[0], 10, shuffle=False)\n",
    "cv_score_accuracy = cross_val_score(clf, X, Y,scoring='accuracy', cv=cv)\n",
    "cv_score_precision = cross_val_score(clf, X, Y,scoring='precision', cv=cv)\n",
    "cv_score_recall = cross_val_score(clf, X, Y,scoring='recall', cv=cv)\n",
    "decisontrees_crossvalidationscores=  pd.DataFrame(\n",
    "    {'CV Accuracy': cv_score_accuracy,\n",
    "     'CV Precision': cv_score_precision,\n",
    "     'CV Recall': cv_score_recall\n",
    "    })\n",
    "decisontrees_crossvalidationscores['Fold Number']=decisontrees_crossvalidationscores.index+1\n",
    "print(\"1c.(i)\")\n",
    "display(decisontrees_crossvalidationscores)\n",
    "decisontrees_crossvalidationscores.to_csv(\"decisontrees_crossvalidationscores.csv\")\n",
    "print(\"a. Avg. Accuracy : \",np.mean(cv_score_accuracy)*100.0,\"% \")\n",
    "print(\"b. Avg. Precision : \",np.mean(cv_score_precision)*100.0,\"% \")\n",
    "print(\"c. Avg. Recall : \",np.mean(cv_score_recall)*100.0,\"% \")\n",
    "\n"
   ]
  },
  {
   "cell_type": "markdown",
   "metadata": {},
   "source": [
    "\n",
    "**1c. (ii) ** \n",
    "The accuracy of decison tree with same train and test data is 100% showing that decision tree it is **overfitting**.\n",
    "Overfitting occurs when a statistical model or machine learning algorithm captures the noise of the data.  Intuitively, overfitting occurs when the model or the algorithm fits the \"train data\" too well.  Specifically, overfitting occurs if the model or algorithm shows low bias but high variance.\n",
    "In cross validation, we are trained and test 9 folds and test on 1 fold respectively, hence results are different.\n"
   ]
  },
  {
   "cell_type": "code",
   "execution_count": 201,
   "metadata": {
    "collapsed": false
   },
   "outputs": [
    {
     "name": "stdout",
     "output_type": "stream",
     "text": [
      "GridSearchCV(cv=sklearn.cross_validation.KFold(n=1993, n_folds=10, shuffle=False, random_state=None),\n",
      "       error_score='raise',\n",
      "       estimator=DecisionTreeClassifier(class_weight=None, criterion='gini', max_depth=None,\n",
      "            max_features=None, max_leaf_nodes=None,\n",
      "            min_impurity_split=1e-07, min_samples_leaf=1,\n",
      "            min_samples_split=2, min_weight_fraction_leaf=0.0,\n",
      "            presort=False, random_state=None, splitter='best'),\n",
      "       fit_params={}, iid=True, n_jobs=1,\n",
      "       param_grid={'criterion': ['gini', 'entropy'], 'min_samples_split': [2, 10, 20], 'max_depth': [None, 2, 5, 10], 'min_samples_leaf': [1, 5, 10], 'max_leaf_nodes': [None, 5, 10, 20]},\n",
      "       pre_dispatch='2*n_jobs', refit=True, scoring=None, verbose=0)\n"
     ]
    }
   ],
   "source": [
    "param_grid = {\"criterion\": [\"gini\", \"entropy\"],\n",
    "              \"min_samples_split\": [2, 10, 20],\n",
    "              \"max_depth\": [None, 2, 5, 10],\n",
    "              \"min_samples_leaf\": [1, 5, 10],\n",
    "              \"max_leaf_nodes\": [None, 5, 10, 20],\n",
    "              }\n",
    "\n",
    "dt = DecisionTreeClassifier()\n",
    "grid_search = GridSearchCV(dt,\n",
    "                               param_grid=param_grid,\n",
    "                               cv=cv)\n",
    "\n",
    "temp=grid_search.fit(X, Y)\n",
    "# top_params = reportgrid_search.grid_scores_, 3)\n",
    "print(temp)"
   ]
  },
  {
   "cell_type": "markdown",
   "metadata": {},
   "source": [
    "**Task - II : Linear Classification**<br>\n",
    "The goal of statistical classification is to use an object's characteristics to identify which class (or group) it belongs to. A linear classifier achieves this by making a classification decision based on the value of a linear combination of the characteristics. An object's characteristics are also known as feature values and are typically presented to the machine in a vector called a feature vector. Such classifiers work well for practical problems such as document classification, and more generally for problems with many variables (features), reaching accuracy levels comparable to non-linear classifiers while taking less time to train and use.\n",
    "\n",
    "**A. Gaussina Naive Bayes**<br>\n",
    "It is a classification technique based on Bayes’ Theorem with an assumption of independence among predictors. In simple terms, a Naive Bayes classifier assumes that the presence of a particular feature in a class is unrelated to the presence of any other feature. For example, a fruit may be considered to be an apple if it is red, round, and about 3 inches in diameter. Even if these features depend on each other or upon the existence of the other features, all of these properties independently contribute to the probability that this fruit is an apple and that is why it is known as ‘Naive’.\n",
    "\n",
    "Naive Bayes model is easy to build and particularly useful for very large data sets. Along with simplicity, Naive Bayes is known to outperform even highly sophisticated classification methods.\n",
    "\n",
    "Bayes theorem provides a way of calculating posterior probability P(c|x) from P(c), P(x) and P(x|c). Look at the equation below:\n",
    " <br><center>\n",
    "<img src=\"https://www.analyticsvidhya.com/wp-content/uploads/2015/09/Bayes_rule-300x172.png\"  height=\"400\" width=\"400\"></center><br>\n",
    "P(c|x) is the posterior probability of class (c, target) given predictor (x, attributes).\n",
    "P(c) is the prior probability of class.\n",
    "P(x|c) is the likelihood which is the probability of predictor given class.\n",
    "P(x) is the prior probability of predictor.\n"
   ]
  },
  {
   "cell_type": "code",
   "execution_count": 67,
   "metadata": {
    "collapsed": false
   },
   "outputs": [
    {
     "name": "stdout",
     "output_type": "stream",
     "text": [
      "Traindata and Testdata are same \n",
      "\t\tConfusion Matrix\n",
      "\t\t\t\t|Predicted False | Predicted True\n",
      "\t\t--------------------------------------------------|\n",
      "\t\t|Acutal Fasle\t| 679 \t\t |\t 382\n",
      "\t\t|Actual True\t| 64 \t\t |\t 868\n",
      "\t\t--------------------------------------------------|\n",
      "\t\ta. Accuracy :  77.6216758655 % \n",
      "\t\tb. Precision :  69.44 %\n",
      "\t\tc. Recall :  69.44 %\n",
      "2a.(i)\n"
     ]
    },
    {
     "data": {
      "text/html": [
       "<div>\n",
       "<table border=\"1\" class=\"dataframe\">\n",
       "  <thead>\n",
       "    <tr style=\"text-align: right;\">\n",
       "      <th></th>\n",
       "      <th>CV Accuracy</th>\n",
       "      <th>CV Precision</th>\n",
       "      <th>CV Recall</th>\n",
       "      <th>Fold Number</th>\n",
       "    </tr>\n",
       "  </thead>\n",
       "  <tbody>\n",
       "    <tr>\n",
       "      <th>0</th>\n",
       "      <td>0.780000</td>\n",
       "      <td>0.929078</td>\n",
       "      <td>0.793939</td>\n",
       "      <td>1</td>\n",
       "    </tr>\n",
       "    <tr>\n",
       "      <th>1</th>\n",
       "      <td>0.770000</td>\n",
       "      <td>0.963235</td>\n",
       "      <td>0.761628</td>\n",
       "      <td>2</td>\n",
       "    </tr>\n",
       "    <tr>\n",
       "      <th>2</th>\n",
       "      <td>0.825000</td>\n",
       "      <td>0.981481</td>\n",
       "      <td>0.762590</td>\n",
       "      <td>3</td>\n",
       "    </tr>\n",
       "    <tr>\n",
       "      <th>3</th>\n",
       "      <td>0.723618</td>\n",
       "      <td>0.918605</td>\n",
       "      <td>0.622047</td>\n",
       "      <td>4</td>\n",
       "    </tr>\n",
       "    <tr>\n",
       "      <th>4</th>\n",
       "      <td>0.653266</td>\n",
       "      <td>0.860000</td>\n",
       "      <td>0.409524</td>\n",
       "      <td>5</td>\n",
       "    </tr>\n",
       "    <tr>\n",
       "      <th>5</th>\n",
       "      <td>0.788945</td>\n",
       "      <td>0.855072</td>\n",
       "      <td>0.648352</td>\n",
       "      <td>6</td>\n",
       "    </tr>\n",
       "    <tr>\n",
       "      <th>6</th>\n",
       "      <td>0.839196</td>\n",
       "      <td>0.965517</td>\n",
       "      <td>0.743363</td>\n",
       "      <td>7</td>\n",
       "    </tr>\n",
       "    <tr>\n",
       "      <th>7</th>\n",
       "      <td>0.783920</td>\n",
       "      <td>0.878788</td>\n",
       "      <td>0.623656</td>\n",
       "      <td>8</td>\n",
       "    </tr>\n",
       "    <tr>\n",
       "      <th>8</th>\n",
       "      <td>0.773869</td>\n",
       "      <td>0.935484</td>\n",
       "      <td>0.758170</td>\n",
       "      <td>9</td>\n",
       "    </tr>\n",
       "    <tr>\n",
       "      <th>9</th>\n",
       "      <td>0.743719</td>\n",
       "      <td>0.725275</td>\n",
       "      <td>0.717391</td>\n",
       "      <td>10</td>\n",
       "    </tr>\n",
       "  </tbody>\n",
       "</table>\n",
       "</div>"
      ],
      "text/plain": [
       "   CV Accuracy  CV Precision  CV Recall  Fold Number\n",
       "0     0.780000      0.929078   0.793939            1\n",
       "1     0.770000      0.963235   0.761628            2\n",
       "2     0.825000      0.981481   0.762590            3\n",
       "3     0.723618      0.918605   0.622047            4\n",
       "4     0.653266      0.860000   0.409524            5\n",
       "5     0.788945      0.855072   0.648352            6\n",
       "6     0.839196      0.965517   0.743363            7\n",
       "7     0.783920      0.878788   0.623656            8\n",
       "8     0.773869      0.935484   0.758170            9\n",
       "9     0.743719      0.725275   0.717391           10"
      ]
     },
     "metadata": {},
     "output_type": "display_data"
    },
    {
     "name": "stdout",
     "output_type": "stream",
     "text": [
      "a. Avg. Accuracy :  76.8153266332 % \n",
      "b. Avg. Precision :  90.1253562112 % \n",
      "c. Avg. Recall :  68.4065991577 % \n"
     ]
    }
   ],
   "source": [
    "clf = GaussianNB()\n",
    "X = df_cleanned[['state', 'population', 'householdsize', 'racepctblack', 'racePctWhite', 'racePctAsian', 'racePctHisp', 'agePct12t21', 'agePct12t29', 'agePct16t24', 'agePct65up', 'numbUrban', 'pctUrban', 'medIncome', 'pctWWage', 'pctWFarmSelf', 'pctWInvInc', 'pctWSocSec', 'pctWPubAsst', 'pctWRetire', 'medFamInc', 'perCapInc', 'whitePerCap', 'blackPerCap', 'indianPerCap', 'AsianPerCap', 'OtherPerCap', 'HispPerCap', 'NumUnderPov', 'PctPopUnderPov', 'PctLess9thGrade', 'PctNotHSGrad', 'PctBSorMore', 'PctUnemployed', 'PctEmploy', 'PctEmplManu', 'PctEmplProfServ', 'PctOccupManu', 'PctOccupMgmtProf', 'MalePctDivorce', 'MalePctNevMarr', 'FemalePctDiv', 'TotalPctDiv', 'PersPerFam', 'PctFam2Par', 'PctKids2Par', 'PctYoungKids2Par', 'PctTeen2Par', 'PctWorkMomYoungKids', 'PctWorkMom', 'NumIlleg', 'PctIlleg', 'NumImmig', 'PctImmigRecent', 'PctImmigRec5', 'PctImmigRec8', 'PctImmigRec10', 'PctRecentImmig', 'PctRecImmig5', 'PctRecImmig8', 'PctRecImmig10', 'PctSpeakEnglOnly', 'PctNotSpeakEnglWell', 'PctLargHouseFam', 'PctLargHouseOccup', 'PersPerOccupHous', 'PersPerOwnOccHous', 'PersPerRentOccHous', 'PctPersOwnOccup', 'PctPersDenseHous', 'PctHousLess3BR', 'MedNumBR', 'HousVacant', 'PctHousOccup', 'PctHousOwnOcc', 'PctVacantBoarded', 'PctVacMore6Mos', 'MedYrHousBuilt', 'PctHousNoPhone', 'PctWOFullPlumb', 'OwnOccLowQuart', 'OwnOccMedVal', 'OwnOccHiQuart', 'RentLowQ', 'RentMedian', 'RentHighQ', 'MedRent', 'MedRentPctHousInc', 'MedOwnCostPctInc', 'MedOwnCostPctIncNoMtg', 'NumInShelters', 'NumStreet', 'PctForeignBorn', 'PctBornSameState', 'PctSameHouse85', 'PctSameCity85', 'PctSameState85', 'LandArea', 'PopDens', 'PctUsePubTrans', 'LemasPctOfficDrugUn']]\n",
    "Y = list(df_cleanned[['highCrime']].values.flatten())\n",
    "clf = clf.fit(X,Y)\n",
    "confusionmatrix = metrics.confusion_matrix(clf.predict(X) ,Y)\n",
    "accuracy =metrics.accuracy_score(clf.predict(X) ,Y)\n",
    "precision =metrics.precision_score(clf.predict(X) ,Y)\n",
    "recall = metrics.precision_score(clf.predict(X) ,Y)\n",
    "print(\"Traindata and Testdata are same \")\n",
    "print(\"\\t\\tConfusion Matrix\")\n",
    "print(\"\\t\\t\\t\\t|Predicted False\",\"| Predicted True\")\n",
    "print(\"\\t\\t--------------------------------------------------|\")\n",
    "print(\"\\t\\t|Acutal Fasle\\t|\",confusionmatrix[0][0],\"\\t\\t |\\t\",confusionmatrix[0][1])\n",
    "print(\"\\t\\t|Actual True\\t|\",confusionmatrix[1][0],\"\\t\\t |\\t\",confusionmatrix[1][1])\n",
    "print(\"\\t\\t--------------------------------------------------|\")\n",
    "print(\"\\t\\ta. Accuracy : \",accuracy*100.0,\"% \")\n",
    "print(\"\\t\\tb. Precision : \",precision*100.0,\"%\")\n",
    "print(\"\\t\\tc. Recall : \",recall*100.0,\"%\")\n",
    "cv = KFold(X.shape[0], 10, shuffle=False)\n",
    "cv_score_accuracy = cross_val_score(clf, X, Y,scoring='accuracy', cv=cv)\n",
    "cv_score_precision = cross_val_score(clf, X, Y,scoring='precision', cv=cv)\n",
    "cv_score_recall = cross_val_score(clf, X, Y,scoring='recall', cv=cv)\n",
    "decisontrees_crossvalidationscores=  pd.DataFrame(\n",
    "    {'CV Accuracy': cv_score_accuracy,\n",
    "     'CV Precision': cv_score_precision,\n",
    "     'CV Recall': cv_score_recall\n",
    "    })\n",
    "decisontrees_crossvalidationscores['Fold Number']=decisontrees_crossvalidationscores.index+1\n",
    "print(\"2a.(i)\")\n",
    "display(decisontrees_crossvalidationscores)\n",
    "decisontrees_crossvalidationscores.to_csv(\"decisontrees_crossvalidationscores.csv\")\n",
    "print(\"a. Avg. Accuracy : \",np.mean(cv_score_accuracy)*100.0,\"% \")\n",
    "print(\"b. Avg. Precision : \",np.mean(cv_score_precision)*100.0,\"% \")\n",
    "print(\"c. Avg. Recall : \",np.mean(cv_score_recall)*100.0,\"% \")\n"
   ]
  },
  {
   "cell_type": "markdown",
   "metadata": {},
   "source": [
    "**Importance of Features ** <br> Importance of features is defined as :-<br><center>$\\dfrac{|\\mu_T-\\mu_F|}{\\sigma_T+\\sigma_F}$</center>"
   ]
  },
  {
   "cell_type": "code",
   "execution_count": 20,
   "metadata": {
    "collapsed": false
   },
   "outputs": [
    {
     "name": "stdout",
     "output_type": "stream",
     "text": [
      "2a.(ii)\n"
     ]
    },
    {
     "data": {
      "image/png": "[encoded data removed]",
      "text/plain": [
       "<matplotlib.figure.Figure at 0x1177ad9e8>"
      ]
     },
     "metadata": {},
     "output_type": "display_data"
    }
   ],
   "source": [
    "print(\"2a.(ii)\")\n",
    "importance=[]\n",
    "for x in list(X):\n",
    "    importance.append(abs(np.mean(df_cleanned[df_cleanned['highCrime']==1.0][x])-np.mean(df_cleanned[df_cleanned['highCrime']==0.0][x]))/abs(np.std(df_cleanned[df_cleanned['highCrime']==1.0][x])+np.std(df_cleanned[df_cleanned['highCrime']==0.0][x])))\n",
    "\n",
    "importance_vlaues = pd.DataFrame({\n",
    " 'importance':importance,\n",
    "}, index=list(X))\n",
    "importance_vlaues =importance_vlaues.sort_values('importance',ascending=False).head(30)\n",
    " \n",
    "objects = importance_vlaues.index\n",
    "y_pos = np.arange(len(importance_vlaues['importance']))\n",
    "performance = importance_vlaues['importance']\n",
    " \n",
    "plt.bar(y_pos, performance, align='center', alpha=0.5)\n",
    "plt.xticks(y_pos, objects,rotation=90)\n",
    "plt.ylabel('Importance')\n",
    "plt.xlabel('Varibles')\n",
    "plt.title('Navie Bayes : Importance of Top 30 variables')\n",
    "plt.tight_layout()\n",
    "plt.show()"
   ]
  },
  {
   "cell_type": "markdown",
   "metadata": {},
   "source": [
    "**PctKids2Par** : It is the percentage of kids in family housing with two parents.<br>\n",
    "This is the most important feature according to the implementatiom. Reason behind this may be children with two parents come from highly educated family, tends to low rate of crime.  \n",
    "\n",
    "**PctFam2Par** : It is the percentage of families (with kids) that are headed by two parents.<br>\n",
    "This gives information about percentage of kids who headed by two parents. Culture is the important feature, when it comes to detecting crime. So, if kid has two parents they are well behaved. So, this can be an important feature.\n",
    "\n",
    "**racePctWhite** : It is the percentage of population that is caucasian (i.e European origin - white-skinned).<br>\n",
    "There is racial descrimination so, it tends to be the imporatant feature in detection crime rate. \n",
    "\n",
    "**PctIlleg** : It is the percentage of kids born to never married.<br>\n",
    "Being single will play an important role in crime detection. Hence, this may be an important feature.\n",
    "\n",
    "**FemalePctDiv** : It is the percentage of females who are divorced.<br>\n",
    "Divorced and female combination leads to detecting Crime rate.\n"
   ]
  },
  {
   "cell_type": "markdown",
   "metadata": {},
   "source": [
    "**2b.(iii) Comparision between Decision Tree and Naive Bayes**\n",
    "1. Accuracy and Precision are more for Naive Bayes than Decision Tree. But, Recall is more for Decision Tree than Naive Bayes. Which means Type 2 error is more(i.e it's predicting false negative) in Naive Bayes.\n",
    "2. In overall, more the accuracy, better the model."
   ]
  },
  {
   "cell_type": "markdown",
   "metadata": {},
   "source": [
    "**B. Linear SVC** <br>\n",
    "“Support Vector Machine” (SVM) is a supervised machine learning algorithm which can be used for both classification or regression challenges. However,  it is mostly used in classification problems. In this algorithm, we plot each data item as a point in n-dimensional space (where n is number of features you have) with the value of each feature being the value of a particular coordinate. Then, we perform classification by finding the hyper-plane that differentiate the two classes very well . In Linear SVC the hyper plane we get is linear in nature. "
   ]
  },
  {
   "cell_type": "code",
   "execution_count": 21,
   "metadata": {
    "collapsed": false
   },
   "outputs": [
    {
     "name": "stdout",
     "output_type": "stream",
     "text": [
      "Traindata and Testdata are same \n",
      "\t\tConfusion Matrix\n",
      "\t\t\t\t|Predicted False | Predicted True\n",
      "\t\t--------------------------------------------------|\n",
      "\t\t|Acutal Fasle\t| 360 \t\t |\t 46\n",
      "\t\t|Actual True\t| 383 \t\t |\t 1204\n",
      "\t\t--------------------------------------------------|\n",
      "\t\ta. Accuracy :  78.4746613146 % \n",
      "\t\tb. Precision :  96.32 %\n",
      "\t\tc. Recall :  96.32 %\n",
      "2b.(i)\n"
     ]
    },
    {
     "data": {
      "text/html": [
       "<div>\n",
       "<table border=\"1\" class=\"dataframe\">\n",
       "  <thead>\n",
       "    <tr style=\"text-align: right;\">\n",
       "      <th></th>\n",
       "      <th>CV Accuracy</th>\n",
       "      <th>CV Precision</th>\n",
       "      <th>CV Recall</th>\n",
       "      <th>Fold Number</th>\n",
       "    </tr>\n",
       "  </thead>\n",
       "  <tbody>\n",
       "    <tr>\n",
       "      <th>0</th>\n",
       "      <td>0.860000</td>\n",
       "      <td>0.877778</td>\n",
       "      <td>0.963636</td>\n",
       "      <td>1</td>\n",
       "    </tr>\n",
       "    <tr>\n",
       "      <th>1</th>\n",
       "      <td>0.890000</td>\n",
       "      <td>0.897849</td>\n",
       "      <td>0.970930</td>\n",
       "      <td>2</td>\n",
       "    </tr>\n",
       "    <tr>\n",
       "      <th>2</th>\n",
       "      <td>0.885000</td>\n",
       "      <td>0.938931</td>\n",
       "      <td>0.848921</td>\n",
       "      <td>3</td>\n",
       "    </tr>\n",
       "    <tr>\n",
       "      <th>3</th>\n",
       "      <td>0.738693</td>\n",
       "      <td>0.903226</td>\n",
       "      <td>0.692913</td>\n",
       "      <td>4</td>\n",
       "    </tr>\n",
       "    <tr>\n",
       "      <th>4</th>\n",
       "      <td>0.688442</td>\n",
       "      <td>0.815217</td>\n",
       "      <td>0.619048</td>\n",
       "      <td>5</td>\n",
       "    </tr>\n",
       "    <tr>\n",
       "      <th>5</th>\n",
       "      <td>0.798995</td>\n",
       "      <td>0.742574</td>\n",
       "      <td>0.978022</td>\n",
       "      <td>6</td>\n",
       "    </tr>\n",
       "    <tr>\n",
       "      <th>6</th>\n",
       "      <td>0.874372</td>\n",
       "      <td>0.801527</td>\n",
       "      <td>1.000000</td>\n",
       "      <td>7</td>\n",
       "    </tr>\n",
       "    <tr>\n",
       "      <th>7</th>\n",
       "      <td>0.798995</td>\n",
       "      <td>0.846154</td>\n",
       "      <td>0.849462</td>\n",
       "      <td>8</td>\n",
       "    </tr>\n",
       "    <tr>\n",
       "      <th>8</th>\n",
       "      <td>0.844221</td>\n",
       "      <td>0.772727</td>\n",
       "      <td>0.960784</td>\n",
       "      <td>9</td>\n",
       "    </tr>\n",
       "    <tr>\n",
       "      <th>9</th>\n",
       "      <td>0.824121</td>\n",
       "      <td>0.680328</td>\n",
       "      <td>0.978261</td>\n",
       "      <td>10</td>\n",
       "    </tr>\n",
       "  </tbody>\n",
       "</table>\n",
       "</div>"
      ],
      "text/plain": [
       "   CV Accuracy  CV Precision  CV Recall  Fold Number\n",
       "0     0.860000      0.877778   0.963636            1\n",
       "1     0.890000      0.897849   0.970930            2\n",
       "2     0.885000      0.938931   0.848921            3\n",
       "3     0.738693      0.903226   0.692913            4\n",
       "4     0.688442      0.815217   0.619048            5\n",
       "5     0.798995      0.742574   0.978022            6\n",
       "6     0.874372      0.801527   1.000000            7\n",
       "7     0.798995      0.846154   0.849462            8\n",
       "8     0.844221      0.772727   0.960784            9\n",
       "9     0.824121      0.680328   0.978261           10"
      ]
     },
     "metadata": {},
     "output_type": "display_data"
    },
    {
     "name": "stdout",
     "output_type": "stream",
     "text": [
      "a. Avg. Accuracy :  82.0283919598 % \n",
      "b. Avg. Precision :  82.7631169833 % \n",
      "c. Avg. Recall :  88.6197799128 % \n"
     ]
    }
   ],
   "source": [
    "clf = LinearSVC()\n",
    "X = df_cleanned[['state', 'population', 'householdsize', 'racepctblack', 'racePctWhite', 'racePctAsian', 'racePctHisp', 'agePct12t21', 'agePct12t29', 'agePct16t24', 'agePct65up', 'numbUrban', 'pctUrban', 'medIncome', 'pctWWage', 'pctWFarmSelf', 'pctWInvInc', 'pctWSocSec', 'pctWPubAsst', 'pctWRetire', 'medFamInc', 'perCapInc', 'whitePerCap', 'blackPerCap', 'indianPerCap', 'AsianPerCap', 'OtherPerCap', 'HispPerCap', 'NumUnderPov', 'PctPopUnderPov', 'PctLess9thGrade', 'PctNotHSGrad', 'PctBSorMore', 'PctUnemployed', 'PctEmploy', 'PctEmplManu', 'PctEmplProfServ', 'PctOccupManu', 'PctOccupMgmtProf', 'MalePctDivorce', 'MalePctNevMarr', 'FemalePctDiv', 'TotalPctDiv', 'PersPerFam', 'PctFam2Par', 'PctKids2Par', 'PctYoungKids2Par', 'PctTeen2Par', 'PctWorkMomYoungKids', 'PctWorkMom', 'NumIlleg', 'PctIlleg', 'NumImmig', 'PctImmigRecent', 'PctImmigRec5', 'PctImmigRec8', 'PctImmigRec10', 'PctRecentImmig', 'PctRecImmig5', 'PctRecImmig8', 'PctRecImmig10', 'PctSpeakEnglOnly', 'PctNotSpeakEnglWell', 'PctLargHouseFam', 'PctLargHouseOccup', 'PersPerOccupHous', 'PersPerOwnOccHous', 'PersPerRentOccHous', 'PctPersOwnOccup', 'PctPersDenseHous', 'PctHousLess3BR', 'MedNumBR', 'HousVacant', 'PctHousOccup', 'PctHousOwnOcc', 'PctVacantBoarded', 'PctVacMore6Mos', 'MedYrHousBuilt', 'PctHousNoPhone', 'PctWOFullPlumb', 'OwnOccLowQuart', 'OwnOccMedVal', 'OwnOccHiQuart', 'RentLowQ', 'RentMedian', 'RentHighQ', 'MedRent', 'MedRentPctHousInc', 'MedOwnCostPctInc', 'MedOwnCostPctIncNoMtg', 'NumInShelters', 'NumStreet', 'PctForeignBorn', 'PctBornSameState', 'PctSameHouse85', 'PctSameCity85', 'PctSameState85', 'LandArea', 'PopDens', 'PctUsePubTrans', 'LemasPctOfficDrugUn']]\n",
    "Y = list(df_cleanned[['highCrime']].values.flatten())\n",
    "clf = clf.fit(X,Y)\n",
    "confusionmatrix = metrics.confusion_matrix(clf.predict(X) ,Y)\n",
    "accuracy =metrics.accuracy_score(clf.predict(X) ,Y)\n",
    "precision =metrics.precision_score(clf.predict(X) ,Y)\n",
    "recall = metrics.precision_score(clf.predict(X) ,Y)\n",
    "print(\"Traindata and Testdata are same \")\n",
    "print(\"\\t\\tConfusion Matrix\")\n",
    "print(\"\\t\\t\\t\\t|Predicted False\",\"| Predicted True\")\n",
    "print(\"\\t\\t--------------------------------------------------|\")\n",
    "print(\"\\t\\t|Acutal Fasle\\t|\",confusionmatrix[0][0],\"\\t\\t |\\t\",confusionmatrix[0][1])\n",
    "print(\"\\t\\t|Actual True\\t|\",confusionmatrix[1][0],\"\\t\\t |\\t\",confusionmatrix[1][1])\n",
    "print(\"\\t\\t--------------------------------------------------|\")\n",
    "print(\"\\t\\ta. Accuracy : \",accuracy*100.0,\"% \")\n",
    "print(\"\\t\\tb. Precision : \",precision*100.0,\"%\")\n",
    "print(\"\\t\\tc. Recall : \",recall*100.0,\"%\")\n",
    "cv = KFold(X.shape[0], 10, shuffle=False)\n",
    "cv_score_accuracy = cross_val_score(clf, X, Y,scoring='accuracy', cv=cv)\n",
    "cv_score_precision = cross_val_score(clf, X, Y,scoring='precision', cv=cv)\n",
    "cv_score_recall = cross_val_score(clf, X, Y,scoring='recall', cv=cv)\n",
    "decisontrees_crossvalidationscores=  pd.DataFrame(\n",
    "    {'CV Accuracy': cv_score_accuracy,\n",
    "     'CV Precision': cv_score_precision,\n",
    "     'CV Recall': cv_score_recall\n",
    "    })\n",
    "decisontrees_crossvalidationscores['Fold Number']=decisontrees_crossvalidationscores.index+1\n",
    "print(\"2b.(i)\")\n",
    "display(decisontrees_crossvalidationscores)\n",
    "decisontrees_crossvalidationscores.to_csv(\"decisontrees_crossvalidationscores.csv\")\n",
    "print(\"a. Avg. Accuracy : \",np.mean(cv_score_accuracy)*100.0,\"% \")\n",
    "print(\"b. Avg. Precision : \",np.mean(cv_score_precision)*100.0,\"% \")\n",
    "print(\"c. Avg. Recall : \",np.mean(cv_score_recall)*100.0,\"% \")\n",
    "\n",
    "\n"
   ]
  },
  {
   "cell_type": "markdown",
   "metadata": {},
   "source": [
    "**Importance of Features **\n",
    "Importance of features can be measured by the absolute feature weights in the model.<br> <center>$Importance(Feature_i)=|Weight_i|$</center>"
   ]
  },
  {
   "cell_type": "code",
   "execution_count": 22,
   "metadata": {
    "collapsed": false,
    "scrolled": false
   },
   "outputs": [
    {
     "name": "stdout",
     "output_type": "stream",
     "text": [
      "2b(ii)\n"
     ]
    },
    {
     "data": {
      "image/png": "[encoded data removed]",
      "text/plain": [
       "<matplotlib.figure.Figure at 0x1120fc390>"
      ]
     },
     "metadata": {},
     "output_type": "display_data"
    }
   ],
   "source": [
    "print(\"2b(ii)\")\n",
    "importance = clf.coef_[0]\n",
    "\n",
    "importance_vlaues = pd.DataFrame({\n",
    " 'importance':importance,\n",
    "}, index=list(X))\n",
    "\n",
    "importance_vlaues['importance'] = abs(importance_vlaues['importance'])\n",
    "importance_vlaues =importance_vlaues.sort_values('importance',ascending=False).head(30)\n",
    " \n",
    "objects = importance_vlaues.index\n",
    "y_pos = np.arange(len(importance_vlaues['importance']))\n",
    "performance = importance_vlaues['importance']\n",
    " \n",
    "plt.bar(y_pos, performance, align='center', alpha=0.5)\n",
    "plt.xticks(y_pos, objects,rotation=90)\n",
    "plt.ylabel('Importance')\n",
    "plt.xlabel('Varibles')\n",
    "plt.title('LinearSVC : Importance of Top 30 variables')\n",
    "plt.tight_layout()\n",
    "plt.show()\n"
   ]
  },
  {
   "cell_type": "markdown",
   "metadata": {},
   "source": [
    "<br>**pctWInvInc** : It is the percentage of households with investment / rent income in 1989.\n",
    "<br> This provides information about investments, rent, etc. It can say that if people are paying the money, most likely it will help in detecting the crime rate. Hence It may be an imporatnt feature.\n",
    "\n",
    "<br>**racePctWhite** : It is the percentage of population that is caucasian (i.e European origin - white-skinned).\n",
    "<br>There is racial descrimination so, it tends to be the imporatant feature in detection crime rate.\n",
    "\n",
    "<br>**PctKids2Par** : It is the percentage of kids in family housing with two parents.\n",
    "<br>This is the most important feature according to the implementatiom. Reason behind this may be children with two parents come from highly educated family, tends to low rate of crime.\n",
    "\n",
    "<br>**PersPerOccupHous** : It is a mean persons per household.\n",
    "<br>This provides the information about number of people per house, this is the critical point when it considr to detect high crime. There is a certain rules for maximum number of people per house and it is illigal exceed that limit. SO, this will be imporatant feature for detection.\n",
    "\n",
    "<br>**RentHighQ** : It is a rental housing - upper quartile rent.\n",
    "<br> This gives information about upper quartile rent. If people are paying rent then either they are employed or they are more towords crime. Hence, it can be plays an important role in the crime detection."
   ]
  },
  {
   "cell_type": "markdown",
   "metadata": {},
   "source": [
    "**2b(iii) Comparision between Decision Tree and Naive Bayes and Linear SVC**\n",
    "1. All the three Accuracy and Recall is more for Linear SVC as compare to other two models.\n",
    "2. For Linear SVC, precision is more than Decision Tree  and less than Naive Bayes. This means False positive detection is more than Decision Tree and Less than Naive Bayes. But the difference between Naive Bayes and Linear SVC is not much.\n",
    "3. Hence, Approximately Linear SVC is better as compare to others."
   ]
  },
  {
   "cell_type": "markdown",
   "metadata": {},
   "source": [
    "**Task - III : Linear Regression**<br>\n",
    "\n",
    "In statistics, linear regression is an approach for modeling the relationship between a scalar dependent variable y and one or more explanatory variables (or independent variables) denoted X by fitting a linear equation to observed data.\n",
    "Look at the equation below:\n",
    "<br><center>\n",
    "<img src=\"https://wikimedia.org/api/rest_v1/media/math/render/svg/0c3243c8f62b9416119fd46c2b9eb0e70e40037b\"  height=\"500\" width=\"500\"></center><br>\n",
    "where T denotes the transpose, so that xiTβ is the inner product between vectors xi and β.\n",
    "Often these n equations are stacked together and written in vector form as\n",
    "<br><center>\n",
    "<img src=\"https://wikimedia.org/api/rest_v1/media/math/render/svg/8119b3ed1259aa8ff15166488548104b50a0f92e\"  height=\"90\" width=\"90\"></center><br>\n",
    "Where X is the explanatory variable and Y is the dependent variable. The slope of the line is β, and a is the intercept (the value of y when x = 0).<br>\n",
    "**A. Linear Regression**"
   ]
  },
  {
   "cell_type": "code",
   "execution_count": 3,
   "metadata": {
    "collapsed": false
   },
   "outputs": [
    {
     "ename": "NameError",
     "evalue": "name 'df_cleanned' is not defined",
     "output_type": "error",
     "traceback": [
      "\u001b[0;31m---------------------------------------------------------------------------\u001b[0m",
      "\u001b[0;31mNameError\u001b[0m                                 Traceback (most recent call last)",
      "\u001b[0;32m<ipython-input-3-4e8e2fa8e296>\u001b[0m in \u001b[0;36m<module>\u001b[0;34m()\u001b[0m\n\u001b[0;32m----> 1\u001b[0;31m \u001b[0mX\u001b[0m \u001b[1;33m=\u001b[0m \u001b[0mdf_cleanned\u001b[0m\u001b[1;33m[\u001b[0m\u001b[1;33m[\u001b[0m\u001b[1;34m'state'\u001b[0m\u001b[1;33m,\u001b[0m \u001b[1;34m'fold'\u001b[0m\u001b[1;33m,\u001b[0m \u001b[1;34m'population'\u001b[0m\u001b[1;33m,\u001b[0m \u001b[1;34m'householdsize'\u001b[0m\u001b[1;33m,\u001b[0m \u001b[1;34m'racepctblack'\u001b[0m\u001b[1;33m,\u001b[0m \u001b[1;34m'racePctWhite'\u001b[0m\u001b[1;33m,\u001b[0m \u001b[1;34m'racePctAsian'\u001b[0m\u001b[1;33m,\u001b[0m \u001b[1;34m'racePctHisp'\u001b[0m\u001b[1;33m,\u001b[0m \u001b[1;34m'agePct12t21'\u001b[0m\u001b[1;33m,\u001b[0m \u001b[1;34m'agePct12t29'\u001b[0m\u001b[1;33m,\u001b[0m \u001b[1;34m'agePct16t24'\u001b[0m\u001b[1;33m,\u001b[0m \u001b[1;34m'agePct65up'\u001b[0m\u001b[1;33m,\u001b[0m \u001b[1;34m'numbUrban'\u001b[0m\u001b[1;33m,\u001b[0m \u001b[1;34m'pctUrban'\u001b[0m\u001b[1;33m,\u001b[0m \u001b[1;34m'medIncome'\u001b[0m\u001b[1;33m,\u001b[0m \u001b[1;34m'pctWWage'\u001b[0m\u001b[1;33m,\u001b[0m \u001b[1;34m'pctWFarmSelf'\u001b[0m\u001b[1;33m,\u001b[0m \u001b[1;34m'pctWInvInc'\u001b[0m\u001b[1;33m,\u001b[0m \u001b[1;34m'pctWSocSec'\u001b[0m\u001b[1;33m,\u001b[0m \u001b[1;34m'pctWPubAsst'\u001b[0m\u001b[1;33m,\u001b[0m \u001b[1;34m'pctWRetire'\u001b[0m\u001b[1;33m,\u001b[0m \u001b[1;34m'medFamInc'\u001b[0m\u001b[1;33m,\u001b[0m \u001b[1;34m'perCapInc'\u001b[0m\u001b[1;33m,\u001b[0m \u001b[1;34m'whitePerCap'\u001b[0m\u001b[1;33m,\u001b[0m \u001b[1;34m'blackPerCap'\u001b[0m\u001b[1;33m,\u001b[0m \u001b[1;34m'indianPerCap'\u001b[0m\u001b[1;33m,\u001b[0m \u001b[1;34m'AsianPerCap'\u001b[0m\u001b[1;33m,\u001b[0m \u001b[1;34m'OtherPerCap'\u001b[0m\u001b[1;33m,\u001b[0m \u001b[1;34m'HispPerCap'\u001b[0m\u001b[1;33m,\u001b[0m \u001b[1;34m'NumUnderPov'\u001b[0m\u001b[1;33m,\u001b[0m \u001b[1;34m'PctPopUnderPov'\u001b[0m\u001b[1;33m,\u001b[0m \u001b[1;34m'PctLess9thGrade'\u001b[0m\u001b[1;33m,\u001b[0m \u001b[1;34m'PctNotHSGrad'\u001b[0m\u001b[1;33m,\u001b[0m \u001b[1;34m'PctBSorMore'\u001b[0m\u001b[1;33m,\u001b[0m \u001b[1;34m'PctUnemployed'\u001b[0m\u001b[1;33m,\u001b[0m \u001b[1;34m'PctEmploy'\u001b[0m\u001b[1;33m,\u001b[0m \u001b[1;34m'PctEmplManu'\u001b[0m\u001b[1;33m,\u001b[0m \u001b[1;34m'PctEmplProfServ'\u001b[0m\u001b[1;33m,\u001b[0m \u001b[1;34m'PctOccupManu'\u001b[0m\u001b[1;33m,\u001b[0m \u001b[1;34m'PctOccupMgmtProf'\u001b[0m\u001b[1;33m,\u001b[0m \u001b[1;34m'MalePctDivorce'\u001b[0m\u001b[1;33m,\u001b[0m \u001b[1;34m'MalePctNevMarr'\u001b[0m\u001b[1;33m,\u001b[0m \u001b[1;34m'FemalePctDiv'\u001b[0m\u001b[1;33m,\u001b[0m \u001b[1;34m'TotalPctDiv'\u001b[0m\u001b[1;33m,\u001b[0m \u001b[1;34m'PersPerFam'\u001b[0m\u001b[1;33m,\u001b[0m \u001b[1;34m'PctFam2Par'\u001b[0m\u001b[1;33m,\u001b[0m \u001b[1;34m'PctKids2Par'\u001b[0m\u001b[1;33m,\u001b[0m \u001b[1;34m'PctYoungKids2Par'\u001b[0m\u001b[1;33m,\u001b[0m \u001b[1;34m'PctTeen2Par'\u001b[0m\u001b[1;33m,\u001b[0m \u001b[1;34m'PctWorkMomYoungKids'\u001b[0m\u001b[1;33m,\u001b[0m \u001b[1;34m'PctWorkMom'\u001b[0m\u001b[1;33m,\u001b[0m \u001b[1;34m'NumIlleg'\u001b[0m\u001b[1;33m,\u001b[0m \u001b[1;34m'PctIlleg'\u001b[0m\u001b[1;33m,\u001b[0m \u001b[1;34m'NumImmig'\u001b[0m\u001b[1;33m,\u001b[0m \u001b[1;34m'PctImmigRecent'\u001b[0m\u001b[1;33m,\u001b[0m \u001b[1;34m'PctImmigRec5'\u001b[0m\u001b[1;33m,\u001b[0m \u001b[1;34m'PctImmigRec8'\u001b[0m\u001b[1;33m,\u001b[0m \u001b[1;34m'PctImmigRec10'\u001b[0m\u001b[1;33m,\u001b[0m \u001b[1;34m'PctRecentImmig'\u001b[0m\u001b[1;33m,\u001b[0m \u001b[1;34m'PctRecImmig5'\u001b[0m\u001b[1;33m,\u001b[0m \u001b[1;34m'PctRecImmig8'\u001b[0m\u001b[1;33m,\u001b[0m \u001b[1;34m'PctRecImmig10'\u001b[0m\u001b[1;33m,\u001b[0m \u001b[1;34m'PctSpeakEnglOnly'\u001b[0m\u001b[1;33m,\u001b[0m \u001b[1;34m'PctNotSpeakEnglWell'\u001b[0m\u001b[1;33m,\u001b[0m \u001b[1;34m'PctLargHouseFam'\u001b[0m\u001b[1;33m,\u001b[0m \u001b[1;34m'PctLargHouseOccup'\u001b[0m\u001b[1;33m,\u001b[0m \u001b[1;34m'PersPerOccupHous'\u001b[0m\u001b[1;33m,\u001b[0m \u001b[1;34m'PersPerOwnOccHous'\u001b[0m\u001b[1;33m,\u001b[0m \u001b[1;34m'PersPerRentOccHous'\u001b[0m\u001b[1;33m,\u001b[0m \u001b[1;34m'PctPersOwnOccup'\u001b[0m\u001b[1;33m,\u001b[0m \u001b[1;34m'PctPersDenseHous'\u001b[0m\u001b[1;33m,\u001b[0m \u001b[1;34m'PctHousLess3BR'\u001b[0m\u001b[1;33m,\u001b[0m \u001b[1;34m'MedNumBR'\u001b[0m\u001b[1;33m,\u001b[0m \u001b[1;34m'HousVacant'\u001b[0m\u001b[1;33m,\u001b[0m \u001b[1;34m'PctHousOccup'\u001b[0m\u001b[1;33m,\u001b[0m \u001b[1;34m'PctHousOwnOcc'\u001b[0m\u001b[1;33m,\u001b[0m \u001b[1;34m'PctVacantBoarded'\u001b[0m\u001b[1;33m,\u001b[0m \u001b[1;34m'PctVacMore6Mos'\u001b[0m\u001b[1;33m,\u001b[0m \u001b[1;34m'MedYrHousBuilt'\u001b[0m\u001b[1;33m,\u001b[0m \u001b[1;34m'PctHousNoPhone'\u001b[0m\u001b[1;33m,\u001b[0m \u001b[1;34m'PctWOFullPlumb'\u001b[0m\u001b[1;33m,\u001b[0m \u001b[1;34m'OwnOccLowQuart'\u001b[0m\u001b[1;33m,\u001b[0m \u001b[1;34m'OwnOccMedVal'\u001b[0m\u001b[1;33m,\u001b[0m \u001b[1;34m'OwnOccHiQuart'\u001b[0m\u001b[1;33m,\u001b[0m \u001b[1;34m'RentLowQ'\u001b[0m\u001b[1;33m,\u001b[0m \u001b[1;34m'RentMedian'\u001b[0m\u001b[1;33m,\u001b[0m \u001b[1;34m'RentHighQ'\u001b[0m\u001b[1;33m,\u001b[0m \u001b[1;34m'MedRent'\u001b[0m\u001b[1;33m,\u001b[0m \u001b[1;34m'MedRentPctHousInc'\u001b[0m\u001b[1;33m,\u001b[0m \u001b[1;34m'MedOwnCostPctInc'\u001b[0m\u001b[1;33m,\u001b[0m \u001b[1;34m'MedOwnCostPctIncNoMtg'\u001b[0m\u001b[1;33m,\u001b[0m \u001b[1;34m'NumInShelters'\u001b[0m\u001b[1;33m,\u001b[0m \u001b[1;34m'NumStreet'\u001b[0m\u001b[1;33m,\u001b[0m \u001b[1;34m'PctForeignBorn'\u001b[0m\u001b[1;33m,\u001b[0m \u001b[1;34m'PctBornSameState'\u001b[0m\u001b[1;33m,\u001b[0m \u001b[1;34m'PctSameHouse85'\u001b[0m\u001b[1;33m,\u001b[0m \u001b[1;34m'PctSameCity85'\u001b[0m\u001b[1;33m,\u001b[0m \u001b[1;34m'PctSameState85'\u001b[0m\u001b[1;33m,\u001b[0m \u001b[1;34m'LandArea'\u001b[0m\u001b[1;33m,\u001b[0m \u001b[1;34m'PopDens'\u001b[0m\u001b[1;33m,\u001b[0m \u001b[1;34m'PctUsePubTrans'\u001b[0m\u001b[1;33m,\u001b[0m \u001b[1;34m'LemasPctOfficDrugUn'\u001b[0m\u001b[1;33m]\u001b[0m\u001b[1;33m]\u001b[0m\u001b[1;33m\u001b[0m\u001b[0m\n\u001b[0m\u001b[1;32m      2\u001b[0m \u001b[0mY\u001b[0m \u001b[1;33m=\u001b[0m \u001b[0mdf_cleanned\u001b[0m\u001b[1;33m[\u001b[0m\u001b[1;33m[\u001b[0m\u001b[1;34m'ViolentCrimesPerPop'\u001b[0m\u001b[1;33m]\u001b[0m\u001b[1;33m]\u001b[0m\u001b[1;33m.\u001b[0m\u001b[0mvalues\u001b[0m\u001b[1;33m.\u001b[0m\u001b[0mflatten\u001b[0m\u001b[1;33m(\u001b[0m\u001b[1;33m)\u001b[0m\u001b[1;33m\u001b[0m\u001b[0m\n\u001b[1;32m      3\u001b[0m \u001b[0mlr\u001b[0m \u001b[1;33m=\u001b[0m \u001b[0mlinear_model\u001b[0m\u001b[1;33m.\u001b[0m\u001b[0mLinearRegression\u001b[0m\u001b[1;33m(\u001b[0m\u001b[1;33m)\u001b[0m\u001b[1;33m\u001b[0m\u001b[0m\n\u001b[1;32m      4\u001b[0m \u001b[0mlr\u001b[0m\u001b[1;33m.\u001b[0m\u001b[0mfit\u001b[0m\u001b[1;33m(\u001b[0m\u001b[0mX\u001b[0m\u001b[1;33m,\u001b[0m\u001b[0mY\u001b[0m\u001b[1;33m)\u001b[0m\u001b[1;33m\u001b[0m\u001b[0m\n\u001b[1;32m      5\u001b[0m \u001b[0mpredicted\u001b[0m \u001b[1;33m=\u001b[0m \u001b[0mlr\u001b[0m\u001b[1;33m.\u001b[0m\u001b[0mpredict\u001b[0m\u001b[1;33m(\u001b[0m\u001b[0mX\u001b[0m\u001b[1;33m)\u001b[0m\u001b[1;33m\u001b[0m\u001b[0m\n",
      "\u001b[0;31mNameError\u001b[0m: name 'df_cleanned' is not defined"
     ]
    }
   ],
   "source": [
    "X = df_cleanned[['state', 'fold', 'population', 'householdsize', 'racepctblack', 'racePctWhite', 'racePctAsian', 'racePctHisp', 'agePct12t21', 'agePct12t29', 'agePct16t24', 'agePct65up', 'numbUrban', 'pctUrban', 'medIncome', 'pctWWage', 'pctWFarmSelf', 'pctWInvInc', 'pctWSocSec', 'pctWPubAsst', 'pctWRetire', 'medFamInc', 'perCapInc', 'whitePerCap', 'blackPerCap', 'indianPerCap', 'AsianPerCap', 'OtherPerCap', 'HispPerCap', 'NumUnderPov', 'PctPopUnderPov', 'PctLess9thGrade', 'PctNotHSGrad', 'PctBSorMore', 'PctUnemployed', 'PctEmploy', 'PctEmplManu', 'PctEmplProfServ', 'PctOccupManu', 'PctOccupMgmtProf', 'MalePctDivorce', 'MalePctNevMarr', 'FemalePctDiv', 'TotalPctDiv', 'PersPerFam', 'PctFam2Par', 'PctKids2Par', 'PctYoungKids2Par', 'PctTeen2Par', 'PctWorkMomYoungKids', 'PctWorkMom', 'NumIlleg', 'PctIlleg', 'NumImmig', 'PctImmigRecent', 'PctImmigRec5', 'PctImmigRec8', 'PctImmigRec10', 'PctRecentImmig', 'PctRecImmig5', 'PctRecImmig8', 'PctRecImmig10', 'PctSpeakEnglOnly', 'PctNotSpeakEnglWell', 'PctLargHouseFam', 'PctLargHouseOccup', 'PersPerOccupHous', 'PersPerOwnOccHous', 'PersPerRentOccHous', 'PctPersOwnOccup', 'PctPersDenseHous', 'PctHousLess3BR', 'MedNumBR', 'HousVacant', 'PctHousOccup', 'PctHousOwnOcc', 'PctVacantBoarded', 'PctVacMore6Mos', 'MedYrHousBuilt', 'PctHousNoPhone', 'PctWOFullPlumb', 'OwnOccLowQuart', 'OwnOccMedVal', 'OwnOccHiQuart', 'RentLowQ', 'RentMedian', 'RentHighQ', 'MedRent', 'MedRentPctHousInc', 'MedOwnCostPctInc', 'MedOwnCostPctIncNoMtg', 'NumInShelters', 'NumStreet', 'PctForeignBorn', 'PctBornSameState', 'PctSameHouse85', 'PctSameCity85', 'PctSameState85', 'LandArea', 'PopDens', 'PctUsePubTrans', 'LemasPctOfficDrugUn']]\n",
    "Y = df_cleanned[['ViolentCrimesPerPop']].values.flatten()\n",
    "lr = linear_model.LinearRegression()\n",
    "lr.fit(X,Y)\n",
    "predicted = lr.predict(X)\n",
    "regr = linear_model.LinearRegression()\n",
    "scores = cross_val_score(regr, X, Y, scoring='neg_mean_squared_error', cv=cross_validation.LeaveOneOut(10))\n",
    "print(\"3a.(i) Cross Validation 10 Fold\")\n",
    "print(scores)\n",
    "print(np.mean(scores))\n",
    "print('3a.(ii)')\n",
    "print(mean_squared_error(predicted,Y))\n",
    "fig, ax = plt.subplots()\n",
    "ax.scatter(Y, predicted)\n",
    "ax.plot([Y.min(), Y.max()], [Y.min(), Y.max()], 'k--', lw=4)\n",
    "ax.set_xlabel('Measured')\n",
    "ax.set_ylabel('Predicted')\n",
    "plt.show()\n"
   ]
  },
  {
   "cell_type": "markdown",
   "metadata": {},
   "source": [
    "**3a(iii)**To identify the useful features from regression we can use the following equateion :-\n",
    "<center><img src=\"https://wikimedia.org/api/rest_v1/media/math/render/svg/8119b3ed1259aa8ff15166488548104b50a0f92e\"  height=\"100\" width=\"100\"></center><br>\n",
    "where we can se $\\beta$ (cofficient) affects the target variable . So if this coffieicent is high it means it contribute more to the target . If it is positive it means it contributes to high value of target whereas if it is negative it reduce the value of target."
   ]
  },
  {
   "cell_type": "code",
   "execution_count": 2,
   "metadata": {
    "collapsed": false
   },
   "outputs": [
    {
     "ename": "NameError",
     "evalue": "name 'lr' is not defined",
     "output_type": "error",
     "traceback": [
      "\u001b[0;31m---------------------------------------------------------------------------\u001b[0m",
      "\u001b[0;31mNameError\u001b[0m                                 Traceback (most recent call last)",
      "\u001b[0;32m<ipython-input-2-8d15dcfd0a89>\u001b[0m in \u001b[0;36m<module>\u001b[0;34m()\u001b[0m\n\u001b[1;32m      1\u001b[0m \u001b[1;33m\u001b[0m\u001b[0m\n\u001b[1;32m      2\u001b[0m \u001b[1;33m\u001b[0m\u001b[0m\n\u001b[0;32m----> 3\u001b[0;31m \u001b[0mHighFeatures\u001b[0m \u001b[1;33m=\u001b[0m \u001b[0mpd\u001b[0m\u001b[1;33m.\u001b[0m\u001b[0mDataFrame\u001b[0m\u001b[1;33m(\u001b[0m\u001b[1;33m{\u001b[0m\u001b[1;34m'Coffiecitent'\u001b[0m\u001b[1;33m:\u001b[0m\u001b[0mlr\u001b[0m\u001b[1;33m.\u001b[0m\u001b[0mcoef_\u001b[0m\u001b[1;33m,\u001b[0m\u001b[1;34m'Variable'\u001b[0m\u001b[1;33m:\u001b[0m\u001b[0mlist\u001b[0m\u001b[1;33m(\u001b[0m\u001b[0mX\u001b[0m\u001b[1;33m)\u001b[0m\u001b[1;33m}\u001b[0m\u001b[1;33m)\u001b[0m\u001b[1;33m.\u001b[0m\u001b[0msort\u001b[0m\u001b[1;33m(\u001b[0m\u001b[1;34m'Coffiecitent'\u001b[0m\u001b[1;33m,\u001b[0m \u001b[0mascending\u001b[0m\u001b[1;33m=\u001b[0m\u001b[1;32mFalse\u001b[0m\u001b[1;33m)\u001b[0m\u001b[1;33m.\u001b[0m\u001b[0mhead\u001b[0m\u001b[1;33m(\u001b[0m\u001b[1;36m10\u001b[0m\u001b[1;33m)\u001b[0m\u001b[1;33m\u001b[0m\u001b[0m\n\u001b[0m\u001b[1;32m      4\u001b[0m \u001b[0my_pos\u001b[0m \u001b[1;33m=\u001b[0m \u001b[0mnp\u001b[0m\u001b[1;33m.\u001b[0m\u001b[0marange\u001b[0m\u001b[1;33m(\u001b[0m\u001b[0mlen\u001b[0m\u001b[1;33m(\u001b[0m\u001b[0mHighFeatures\u001b[0m\u001b[1;33m[\u001b[0m\u001b[1;34m'Coffiecitent'\u001b[0m\u001b[1;33m]\u001b[0m\u001b[1;33m)\u001b[0m\u001b[1;33m)\u001b[0m\u001b[1;33m\u001b[0m\u001b[0m\n\u001b[1;32m      5\u001b[0m \u001b[0mperformance\u001b[0m \u001b[1;33m=\u001b[0m \u001b[0mHighFeatures\u001b[0m\u001b[1;33m[\u001b[0m\u001b[1;34m'Coffiecitent'\u001b[0m\u001b[1;33m]\u001b[0m\u001b[1;33m\u001b[0m\u001b[0m\n",
      "\u001b[0;31mNameError\u001b[0m: name 'lr' is not defined"
     ]
    }
   ],
   "source": [
    "\n",
    "\n",
    "HighFeatures = pd.DataFrame({'Coffiecitent':lr.coef_,'Variable':list(X)}).sort('Coffiecitent', ascending=False).head(10)\n",
    "y_pos = np.arange(len(HighFeatures['Coffiecitent']))\n",
    "performance = HighFeatures['Coffiecitent']\n",
    "plt.bar(y_pos, performance, align='center', alpha=0.5)\n",
    "plt.xticks(y_pos, HighFeatures['Variable'],rotation=90)\n",
    "plt.ylabel('Importance')\n",
    "plt.xlabel('Varibles')\n",
    "plt.title('Linear Regression : Importance of Top 10 variables for High Crime')\n",
    "plt.tight_layout()\n",
    "plt.show()\n",
    "LowFeatures=pd.DataFrame({'Coffiecitent':lr.coef_,'Variable':list(X)}).sort('Coffiecitent', ascending=True).head(10)\n",
    "y_pos = np.arange(len(LowFeatures['Coffiecitent']))\n",
    "performance = abs(LowFeatures['Coffiecitent'])\n",
    "plt.bar(y_pos, performance, align='center', alpha=0.5)\n",
    "plt.xticks(y_pos, LowFeatures['Variable'],rotation=90)\n",
    "plt.ylabel('Importance')\n",
    "plt.xlabel('Varibles')\n",
    "plt.title('Linear Regression : Importance of Top 10 variables for Low Crime')\n",
    "plt.tight_layout()\n",
    "plt.show()"
   ]
  },
  {
   "cell_type": "markdown",
   "metadata": {
    "collapsed": true
   },
   "source": [
    "**B. Linear Regression :Ridge Regression **<br>\n",
    "\n",
    "Sometimes, with many predictors, fitting the full model without penalization will result in large prediction intervals, and Linear regression estimator may not uniquely exist.\n",
    "Ridge regression is like least squares but shrinks the estimated\n",
    "coefficients towards zero. Given a response vector y ∈ R^n and a predictor matrix X ∈ R^(n*p), the ridge regression coefficients are defined as\n",
    "<br><center>\n",
    "<img src=\"http://businessforecastblog.com/wp-content/uploads/2014/05/LASSOobkf.png\"  height=\"400\" width=\"400\"></center><br>\n",
    "Here λ ≥ 0 is a tuning parameter, which controls the strength of the penalty term. Note that:\n",
    "<br>When λ = 0, we get the linear regression estimate\n",
    "<br>When λ = ∞, we get β^ridge = 0\n",
    "<br>For λ in between, we are balancing two ideas: fitting a linear model of y on X, and shrinking the coefficients"
   ]
  },
  {
   "cell_type": "code",
   "execution_count": 24,
   "metadata": {
    "collapsed": false
   },
   "outputs": [
    {
     "name": "stdout",
     "output_type": "stream",
     "text": [
      "3b.(i)Cross Validation Score\n",
      "[-0.00044885 -0.01449234 -0.04172163 -0.01146998 -0.09724224 -0.00058036\n",
      " -0.00189955 -0.14029149 -0.00060561 -0.01420245]\n",
      "-0.0322954492774\n",
      "3b.(ii) MSE on Same full cleaned dataset\n",
      "0.0166533412034\n",
      "3b.(iii) Best Alpha\n",
      "1.0\n"
     ]
    }
   ],
   "source": [
    "score =cross_val_score(linear_model.RidgeCV(alphas=(10, 1, 0.1, 0.01,0.001)), X, Y, scoring='neg_mean_squared_error',cv=cross_validation.LeaveOneOut(10))\n",
    "ridge = linear_model.RidgeCV(alphas=(10, 1, 0.1, 0.01,0.001))\n",
    "ridge.fit(X,Y)\n",
    "predicted = ridge.predict(X)\n",
    "print(\"3b.(i)Cross Validation Score\")\n",
    "print(scores)\n",
    "print(np.mean(scores))\n",
    "print('3b.(ii) MSE on Same full cleaned dataset')\n",
    "print(mean_squared_error(predicted,Y))\n",
    "# fig, ax = plt.subplots()\n",
    "# ax.scatter(Y, predicted)\n",
    "# ax.plot([Y.min(), Y.max()], [Y.min(), Y.max()], 'k--', lw=4)\n",
    "# ax.set_xlabel('Measured')\n",
    "# ax.set_ylabel('Predicted')\n",
    "# plt.show()\n",
    "print('3b.(iii) Best Alpha')\n",
    "print(ridge.alpha_)\n"
   ]
  },
  {
   "cell_type": "markdown",
   "metadata": {},
   "source": [
    "**3b(iv) Analysis of Alpha**\n",
    "1. In the above equation of Ridge Regression, alpha is same as lambda. More the value of alpha, more the model was overfitt.\n",
    "2. We got alpha = 1, This shows that our model was overfil to some extent and we solved it using this alpha value.\n",
    "3. Resultanat alpha value is most of the value from the set (10, 1, 0.1, 0.01 and 0.001), but it is not largest. Hence wecan say that over model was little overfit."
   ]
  },
  {
   "cell_type": "markdown",
   "metadata": {},
   "source": [
    "\n",
    "**C. Linear Regression : Polynomial **<br>\n",
    "Polynomial Regression algorithm\n",
    "\n",
    "This approach maintains the generally fast performance of linear methods, while allowing them to fit a much wider range of data.\n",
    "For example, a simple linear regression can be extended by constructing polynomial features from the coefficients. In the standard linear regression case, you might have a model that looks like this for two-dimensional data:\n",
    "<br><center>\n",
    "<img src=\"http://scikit-learn.org/stable/_images/math/3666ec3bc883af433b318bff9143b5166bcaef15.png\"  height=\"250\" width=\"250\"></center><br>\n",
    "If we want to fit a paraboloid to the data instead of a plane, we can combine the features in second-order polynomials, so that the model looks like this:\n",
    "<br><center>\n",
    "<img src=\"http://scikit-learn.org/stable/_images/math/1e1f74179df321954b823943c08d555a524e69f9.png\"  height=\"500\" width=\"500\"></center><br>\n",
    "New variable:\n",
    "<br><center>\n",
    "<img src=\"http://scikit-learn.org/stable/_images/math/2c0a9947255ef61995c3f5e6319fc7fdfa3503c6.png\"  height=\"250\" width=\"250\"></center><br>\n",
    "With this re-labeling of the data, our problem can be written\n",
    "<br><center>\n",
    "<img src=\"http://scikit-learn.org/stable/_images/math/618623438e33ecf053d364a0b938f056cd758b34.png\"  height=\"500\" width=\"500\"></center><br>\n",
    "We see that the resulting polynomial regression is in the same class of linear models as above (i.e. the model is linear in w) and can be solved by the same techniques. By considering linear fits within a higher-dimensional space built with these basis functions, the model has the flexibility to fit a much broader range of data.\n"
   ]
  },
  {
   "cell_type": "code",
   "execution_count": 25,
   "metadata": {
    "collapsed": false
   },
   "outputs": [
    {
     "name": "stdout",
     "output_type": "stream",
     "text": [
      "3c.(i) Cross Validation 10 Fold\n",
      "[ -1.76452930e-02  -8.50242477e-06  -7.68647584e-02  -6.39287664e-03\n",
      "  -8.88446589e-02  -5.47572857e-02  -3.82977663e-02  -1.96293505e-01\n",
      "  -8.11012237e-03  -2.69380073e-03]\n",
      "-0.0489908569209\n",
      "3c.(ii)\n",
      "0.0166533412034\n"
     ]
    }
   ],
   "source": [
    "from sklearn.preprocessing import PolynomialFeatures\n",
    "poly = PolynomialFeatures(degree=2)\n",
    "X=poly.fit_transform(X)\n",
    "regr = linear_model.LinearRegression()\n",
    "scores = cross_val_score(regr, X, Y, scoring='neg_mean_squared_error', cv=cross_validation.LeaveOneOut(10))\n",
    "print(\"3c.(i) Cross Validation 10 Fold\")\n",
    "print(scores)\n",
    "print(np.mean(scores))\n",
    "print('3c.(ii)')\n",
    "print(mean_squared_error(predicted,Y))"
   ]
  },
  {
   "cell_type": "markdown",
   "metadata": {},
   "source": [
    "**3c. (iii)**\n",
    "<br> For quadratic model Root Mean Square value is 0.0480 and for Linear model, it is 0.0322. This shows that Root Mean Square value is increasing in Quadratic model.\n",
    "<br> The Quadratic model is not giving any significant results."
   ]
  },
  {
   "cell_type": "markdown",
   "metadata": {
    "collapsed": true
   },
   "source": [
    "**Task-IV Dirty Data**<br>\n",
    "For cleaning the data we first removed all those colunm which has more the 80% of Nan and based on the distribustion of each feature we choose the process of imputation .If \n",
    "\n",
    "\n",
    "\n",
    "Source :<br>\n",
    "1) http://dl.acm.org/citation.cfm?id=1325890<br>\n",
    "2) http://www.dbis.informatik.hu-berlin.de/fileadmin/research/papers/techreports/2003-hub_ib_164-mueller.pdf\n"
   ]
  },
  {
   "cell_type": "code",
   "execution_count": 242,
   "metadata": {
    "collapsed": false
   },
   "outputs": [
    {
     "name": "stdout",
     "output_type": "stream",
     "text": [
      "Resutl For Cleaned Data\n",
      "0.750532663317\n",
      "0.792485125042\n",
      "0.791565986172\n",
      "Result for Uncleanned Data after Cleanning\n",
      "0.771150753769\n",
      "0.813487804808\n",
      "0.806014161166\n"
     ]
    }
   ],
   "source": [
    "# Loading the unclean data file\n",
    "raw = pd.read_csv(\"~/Desktop/ml_project/data/communities-crime-clean.csv\")\n",
    "df_uncleanned = pd.read_csv(\"~/Desktop/ml_project/data/communities-crime-full.csv\").replace(\"?\",np.nan)\n",
    "for x in list(raw):\n",
    "    df_uncleanned[x] = df_uncleanned[x].astype(raw[x].dtypes)\n",
    "Y_cleanned = np.where(df_uncleanned['ViolentCrimesPerPop'] > 0.1, 1.0, 0.0)\n",
    "aftercleanning = np.where(df_uncleanned['ViolentCrimesPerPop'] > 0.15, 1.0, 0.0)\n",
    "\n",
    "\n",
    "df_uncleanned = df_uncleanned.drop(['state','communityname','fold','ViolentCrimesPerPop','county','community'], 1)\n",
    "NAN_count = pd.DataFrame({\"Percentage Of NAN\":100-df_uncleanned.count()*100/len(df_uncleanned),\"variable\":df_uncleanned.count().index})\n",
    "variables_with_80_NAN =list(NAN_count[NAN_count['Percentage Of NAN']>50]['variable'])\n",
    "variables_left=list(set(list(df_uncleanned))-set(variables_with_80_NAN))\n",
    "df_uncleanned= df_uncleanned[variables_left]\n",
    "imp = Imputer(missing_values='NaN', strategy='median', axis=0)\n",
    "X_cleanned=imp.fit_transform(df_uncleanned)\n",
    "\n",
    "\n",
    "# # #Decision Tree \n",
    "clf = DecisionTreeClassifier()\n",
    "X = df_cleanned[['population', 'householdsize', 'racepctblack', 'racePctWhite', 'racePctAsian', 'racePctHisp', 'agePct12t21', 'agePct12t29', 'agePct16t24', 'agePct65up', 'numbUrban', 'pctUrban', 'medIncome', 'pctWWage', 'pctWFarmSelf', 'pctWInvInc', 'pctWSocSec', 'pctWPubAsst', 'pctWRetire', 'medFamInc', 'perCapInc', 'whitePerCap', 'blackPerCap', 'indianPerCap', 'AsianPerCap', 'OtherPerCap', 'HispPerCap', 'NumUnderPov', 'PctPopUnderPov', 'PctLess9thGrade', 'PctNotHSGrad', 'PctBSorMore', 'PctUnemployed', 'PctEmploy', 'PctEmplManu', 'PctEmplProfServ', 'PctOccupManu', 'PctOccupMgmtProf', 'MalePctDivorce', 'MalePctNevMarr', 'FemalePctDiv', 'TotalPctDiv', 'PersPerFam', 'PctFam2Par', 'PctKids2Par', 'PctYoungKids2Par', 'PctTeen2Par', 'PctWorkMomYoungKids', 'PctWorkMom', 'NumIlleg', 'PctIlleg', 'NumImmig', 'PctImmigRecent', 'PctImmigRec5', 'PctImmigRec8', 'PctImmigRec10', 'PctRecentImmig', 'PctRecImmig5', 'PctRecImmig8', 'PctRecImmig10', 'PctSpeakEnglOnly', 'PctNotSpeakEnglWell', 'PctLargHouseFam', 'PctLargHouseOccup', 'PersPerOccupHous', 'PersPerOwnOccHous', 'PersPerRentOccHous', 'PctPersOwnOccup', 'PctPersDenseHous', 'PctHousLess3BR', 'MedNumBR', 'HousVacant', 'PctHousOccup', 'PctHousOwnOcc', 'PctVacantBoarded', 'PctVacMore6Mos', 'MedYrHousBuilt', 'PctHousNoPhone', 'PctWOFullPlumb', 'OwnOccLowQuart', 'OwnOccMedVal', 'OwnOccHiQuart', 'RentLowQ', 'RentMedian', 'RentHighQ', 'MedRent', 'MedRentPctHousInc', 'MedOwnCostPctInc', 'MedOwnCostPctIncNoMtg', 'NumInShelters', 'NumStreet', 'PctForeignBorn', 'PctBornSameState', 'PctSameHouse85', 'PctSameCity85', 'PctSameState85', 'LandArea', 'PopDens', 'PctUsePubTrans', 'LemasPctOfficDrugUn']] \n",
    "Y = df_cleanned[['highCrime']].values.flatten()\n",
    "cv = KFold(X.shape[0], 10, shuffle=False, random_state=33)\n",
    "cv_score_accuracy = cross_val_score(clf, X, Y,scoring='accuracy', cv=cv)\n",
    "cv_score_precision = cross_val_score(clf, X, Y,scoring='precision', cv=cv)\n",
    "cv_score_recall = cross_val_score(clf, X, Y,scoring='recall', cv=cv)\n",
    "print(\"Resutl For Cleaned Data\")\n",
    "print(np.mean(cv_score_accuracy))\n",
    "print(np.mean(cv_score_precision))\n",
    "print(np.mean(cv_score_recall))\n",
    "cv_score_accuracy = cross_val_score(clf, X_cleanned, Y_cleanned,scoring='accuracy', cv=cv)\n",
    "cv_score_precision = cross_val_score(clf, X_cleanned, Y_cleanned,scoring='precision', cv=cv)\n",
    "cv_score_recall = cross_val_score(clf, X_cleanned, Y_cleanned,scoring='recall', cv=cv)\n",
    "print(\"Result for Uncleanned Data after Cleanning\")\n",
    "print(np.mean(cv_score_accuracy))\n",
    "print(np.mean(cv_score_precision))\n",
    "print(np.mean(cv_score_recall))\n",
    "\n"
   ]
  },
  {
   "cell_type": "markdown",
   "metadata": {},
   "source": [
    "**4a. Comparision between Full(Non clean) and Clean Dataset**\n",
    "1. From the above results, it shows that Accuracy, Precision and Recall for Uncleaanned dataset(Full-Non Cleaned) are more than that for Cleaned dataset.\n",
    "2. To clean dataset, we removed all the entries which having more than 80% \"NaN\"/\"?\" values and replace the values with the corresponding Mean value for those entries which having less than 80% missing values.\n",
    "3. Results shows that, applied cleaning strategies are good that we apply on Full(Non Clean) dataset."
   ]
  },
  {
   "cell_type": "markdown",
   "metadata": {},
   "source": [
    "**Task-V Team**<br>\n",
    "\n",
    "\n",
    "\n",
    "** A. <br>Random Forest **<br>\n",
    "Random Forest Algorithm\n",
    "\n",
    "Random Forest grows Classification Tree. Each Tree follow below steps:\n",
    "1. If the number of cases in the training set is N, sample N cases at random with replacement from the original data. This sample will be the training set for growing the tree.\n",
    "2. If there are M input variables, a number m*M is specified such that at each node, m variables are selected at random out of the M and the best split on these m is used to split the node. The value of m is held constant during the forest growing.\n",
    "3. Each tree is grown to the largest extent possible. There is no pruning.\n",
    "<br>\n",
    "<br>**Logistic Regression**<br>\n",
    "\n",
    "Random Forest grows Classification Tree. Each Tree follow below steps:\n",
    "1. If the number of cases in the training set is N, sample N cases at random with replacement from the original data. This sample will be the training set for growing the tree.\n",
    "2. If there are M input variables, a number m*M is specified such that at each node, m variables are selected at random out of the M and the best split on these m is used to split the node. The value of m is held constant during the forest growing.\n",
    "3. Each tree is grown to the largest extent possible. There is no pruning.\n",
    "\n"
   ]
  },
  {
   "cell_type": "code",
   "execution_count": 253,
   "metadata": {
    "collapsed": false
   },
   "outputs": [
    {
     "name": "stdout",
     "output_type": "stream",
     "text": [
      "5a.(i)\n",
      "Cleened Data Set\n",
      "LogisticRegression Accuracy :  0.829814070352\n",
      "Linear SVM Accuracy :  0.826286432161\n",
      "RBF SVM Accuracy :  0.72183919598\n",
      "Decision Tree Accuracy :  0.766103015075\n",
      "Random Forest Accuracy :  0.80374120603\n",
      "AdaBoost Accuracy :  0.798190954774\n",
      "Naive Bayes Accuracy :  0.767653266332\n",
      "Full Data Set\n",
      "LogisticRegression Accuracy :  0.836924623116\n",
      "Linear SVM Accuracy :  0.828896984925\n",
      "RBF SVM Accuracy :  0.769180904523\n",
      "Decision Tree Accuracy :  0.760130653266\n",
      "Random Forest Accuracy :  0.811311557789\n",
      "AdaBoost Accuracy :  0.814831658291\n",
      "Naive Bayes Accuracy :  0.778195979899\n"
     ]
    }
   ],
   "source": [
    "print(\"5a.(i)\")\n",
    "names = [\"LogisticRegression\", \"Linear SVM\", \"RBF SVM\", \n",
    "         \"Decision Tree\", \"Random Forest\", \"AdaBoost\",\n",
    "         \"Naive Bayes\"]\n",
    "from sklearn.svm import SVC\n",
    "classifiers = [\n",
    "    \n",
    "    LogisticRegression(),\n",
    "    SVC(kernel=\"linear\", C=0.025),\n",
    "    SVC(gamma=2, C=1),\n",
    "    DecisionTreeClassifier(),\n",
    "    RandomForestClassifier(),\n",
    "    AdaBoostClassifier(),\n",
    "    GaussianNB()\n",
    "    ]\n",
    "result_clean =[]\n",
    "result_unclean =[]\n",
    "print(\"Cleaned Data Set\")\n",
    "cv = KFold(X.shape[0], 10, shuffle=False, random_state=33)\n",
    "for name, clf in zip(names, classifiers):\n",
    "        cv_score_accuracy = cross_val_score(clf, X, Y,scoring='accuracy', cv=cv)\n",
    "        print(name,\"Accuracy : \",np.mean(cv_score_accuracy))\n",
    "        result_clean.append(np.mean(cv_score_accuracy))\n",
    "print(\"Full Data Set\")\n",
    "for name, clf in zip(names, classifiers):\n",
    "        cv_score_accuracy = cross_val_score(clf, X_cleanned, Y_cleanned,scoring='accuracy', cv=cv)\n",
    "        print(name,\"Accuracy : \",np.mean(cv_score_accuracy))\n",
    "        result_unclean.append(np.mean(cv_score_accuracy))"
   ]
  },
  {
   "cell_type": "code",
   "execution_count": null,
   "metadata": {
    "collapsed": true
   },
   "outputs": [],
   "source": [
    "print(\"5a.(ii) Comparison\")\n",
    "\n",
    "bar_width = 0.15\n",
    "\n",
    "index = np.arange(len(result_unclean))\n",
    "opacity = 0.6\n",
    "error_config = {'ecolor': '0.3'}\n",
    "\n",
    "rects1 = plt.bar(index, result_clean, bar_width,\n",
    "                 alpha=opacity,\n",
    "                 color='b',\n",
    "                 error_kw=error_config,\n",
    "                 label='Cleaned')\n",
    "\n",
    "rects2 = plt.bar(index + bar_width, result_unclean, bar_width,\n",
    "                 alpha=opacity,\n",
    "                 color='r',\n",
    "                 error_kw=error_config,\n",
    "                 label='Full')\n",
    "\n",
    "plt.xlabel('Dataset Used')\n",
    "plt.ylabel('Accuracy')\n",
    "plt.title('Comparison of Accuracries For two Datasets(Clean and Full)')\n",
    "plt.xticks(index + bar_width / 3, names,rotation=50)\n",
    "plt.legend()\n",
    "plt.tight_layout()\n",
    "plt.show()"
   ]
  },
  {
   "cell_type": "markdown",
   "metadata": {},
   "source": [
    "**Conclusion :**It can be observed from the above bar graph that on full data which is prepared after cleanning all the algorithms perform better than their corresponding run on the cleanned data. Secondly we can observe Logistic Regression comes out to be the best algorithm to classify the data points as high or low crime zones."
   ]
  },
  {
   "cell_type": "markdown",
   "metadata": {},
   "source": [
    "**5a.(iii) Most Predictive Features for High Crime**\n",
    "<br>Based on coorelation of all the variables with 'ViolentCrimesPerPop' following variables showed us high/medium coorelation coeeficient(> 0.4):- 'racepctblack', 'pctWPubAsst', 'NumUnderPov', 'PctPopUnderPov', 'PctLess9thGrade', 'PctNotHSGrad', 'PctUnemployed', 'MalePctDivorce', 'FemalePctDiv', 'TotalPctDiv', 'NumIlleg', 'PctIlleg', 'PctPersDenseHous', 'PctHousLess3BR', 'HousVacant', 'PctVacantBoarded', 'PctHousNoPhone'\n",
    "\n",
    "<br>Based on Linear Regression 'PctHousOwnOcc', 'PersPerOccupHous', 'MalePctDivorce', 'PctRecImmig8', 'MedRent', 'medFamInc', 'OwnOccMedVal', 'PctEmploy', 'MalePctNevMarr', 'PctPersDenseHous', 'racepctblack', 'NumStreet', 'population', 'HousVacant', 'FemalePctDiv', 'NumInShelters', 'PctOccupMgmtProf', 'PctIlleg', 'NumUnderPov', 'agePct12t21', 'PctForeignBorn', 'perCapInc', 'PctHousLess3BR', 'pctWSocSec', 'PctOccupManu', 'racePctHisp', 'PctWorkMomYoungKids', 'PctVacantBoarded', 'PctLargHouseFam', 'PctBSorMore' these are the important features.\n",
    "\n",
    "<br> **'PctIlleg', 'PctPersDenseHous', 'PctVacantBoarded', 'FemalePctDiv', 'PctHousLess3BR', 'HousVacant', 'racepctblack', 'NumUnderPov', 'MalePctDivorce'** these are the important features which commonly affect high crime rate. Following are the reasons behind each feature mention above:\n",
    "<br>**PctIlleg:** This fields gives information about people who never married. Being Single is leads to depreesion and which result into entering a crime world. Hence we can say that this is high crime feature.\n",
    "\n",
    "<br>**PctPersDenseHous:** This gives the information about number of people living illigally. People who are living illigal tends to do illigal jobs, results into high crime.\n",
    "\n",
    "<br>**PctVacantBoarded:** This provide information about the emplty houses that is borded by someone. It is an illigal activity. So, this making sense that it will give high crime rate.\n",
    "\n",
    "<br>**FemalePctDiv:** This gives the number of female who are divorced. So this leads to being single which is same as 'PctIlleg\"\n",
    "\n",
    "<br>**PctHousLess3BR:** This gives the percentage of houses which have less than 3 bedroom, this means people can not afford to buy big houses. This means unemployment which leads to crime.\n",
    "\n",
    "<br>**HousVacant:** This will tell the percentage of vacant houses. Vacant area leads to less security which increases crime rate.\n",
    "\n",
    "<br>**racepctblack:** This will give percentage of african american population. Lincon give Freedom to these people in 1863, so white people restricted theose people from many of the resources like education. This result into thease people move towards more crime. \n",
    "\n",
    "<br>**NumUnderPov:** This will give the information about people below poverty level. Below poverty level means people are unemployeed or they don't have sufficient money for leaving. This result into more crime rate.\n",
    "\n",
    "<br>**MalePctDivorce:**This gives the number of male who are divorced. So this leads to being single which is same as 'PctIlleg\""
   ]
  },
  {
   "cell_type": "markdown",
   "metadata": {},
   "source": [
    "**B. Finding A New Threshold**\n",
    "After observing the distibustion of ViolentCrimesPerPop , we choose median as the \"useful\" thresold as the distrubtion is skewed towards left."
   ]
  },
  {
   "cell_type": "code",
   "execution_count": 237,
   "metadata": {
    "collapsed": false
   },
   "outputs": [
    {
     "name": "stdout",
     "output_type": "stream",
     "text": [
      "Distribustion Plot of ViolentCrimesPerPop\n"
     ]
    },
    {
     "data": {
      "image/png": "[encoded data removed]",
      "text/plain": [
       "<matplotlib.figure.Figure at 0x109a816d8>"
      ]
     },
     "metadata": {},
     "output_type": "display_data"
    },
    {
     "name": "stdout",
     "output_type": "stream",
     "text": [
      "Median of ViolentCrimesPerPop: 0.15\n"
     ]
    }
   ],
   "source": [
    "print(\"5b.(ii)\")\n",
    "print(\"Distribustion Plot of ViolentCrimesPerPop\")\n",
    "plt.hist(df_cleanned['ViolentCrimesPerPop'])\n",
    "plt.title(\"Distribution of ViolentCrimesPerPop\")\n",
    "plt.xlabel(\"ViolentCrimesPerPop\")\n",
    "plt.ylabel(\"Frequency\")\n",
    "plt.show()\n",
    "print(\"Median of ViolentCrimesPerPop:\",np.median(df_cleanned['ViolentCrimesPerPop']))"
   ]
  },
  {
   "cell_type": "markdown",
   "metadata": {},
   "source": [
    "**5b.(iii)  Comparison Using New Threshold**"
   ]
  },
  {
   "cell_type": "code",
   "execution_count": null,
   "metadata": {
    "collapsed": true
   },
   "outputs": [],
   "source": [
    "print(\"5b.(iii)  CV Using New Threshold\")\n",
    "names = [\"LogisticRegression\", \"Linear SVM\", \"RBF SVM\", \n",
    "         \"Decision Tree\", \"Random Forest\", \"AdaBoost\",\n",
    "         \"Naive Bayes\"]\n",
    "\n",
    "from sklearn.svm import SVC\n",
    "classifiers = [\n",
    "    \n",
    "    LogisticRegression(),\n",
    "    SVC(kernel=\"linear\", C=0.025),\n",
    "    SVC(gamma=2, C=1),\n",
    "    DecisionTreeClassifier(),\n",
    "    RandomForestClassifier(),\n",
    "    AdaBoostClassifier(),\n",
    "    GaussianNB()\n",
    "    ]\n",
    "threshold_new_clean=[]\n",
    "threshold_new_full=[]\n",
    "\n",
    "\n",
    "cv = KFold(X.shape[0], 10, shuffle=False, random_state=33)\n",
    "print(\"Cleaned Data Set\")\n",
    "for name, clf in zip(names, classifiers):\n",
    "        cv_score_accuracy = cross_val_score(clf, X, np.where(df_cleanned['ViolentCrimesPerPop'] > 0.15, 1.0, 0.0),scoring='accuracy', cv=cv)\n",
    "        print(name,\"Accuracy :\",np.mean(cv_score_accuracy))\n",
    "        threshold_new_clean.append(np.mean(cv_score_accuracy))\n",
    "print(\"Full Data Set\")\n",
    "for name, clf in zip(names, classifiers):\n",
    "        cv_score_accuracy = cross_val_score(clf, X_cleanned, aftercleanning,scoring='accuracy', cv=cv)\n",
    "        print(name,\"Accuracy :\",np.mean(cv_score_accuracy))\n",
    "        threshold_new_full.append(np.mean(cv_score_accuracy))\n"
   ]
  },
  {
   "cell_type": "code",
   "execution_count": null,
   "metadata": {
    "collapsed": true
   },
   "outputs": [],
   "source": [
    "print(\"5b.(iv) Comparision\")\n",
    "rects1 = plt.bar(index, result_clean, bar_width,\n",
    "                 alpha=opacity,\n",
    "                 color='b',\n",
    "                 error_kw=error_config,\n",
    "                 label='Threshold=0.1')\n",
    "\n",
    "rects2 = plt.bar(index + bar_width, threshold_new_clean, bar_width,\n",
    "                 alpha=opacity,\n",
    "                 color='r',\n",
    "                 error_kw=error_config,\n",
    "                 label='Threshold=0.15')\n",
    "\n",
    "plt.xlabel('Algorithm')\n",
    "plt.ylabel('Accuracy')\n",
    "plt.title('Comparison of Accuracries For Clean Data (Different Threshold)')\n",
    "plt.xticks(index + bar_width / 3, names,rotation=50)\n",
    "plt.legend()\n",
    "plt.tight_layout()\n",
    "plt.show()\n",
    "\n",
    "\n",
    "rects1 = plt.bar(index, result_unclean, bar_width,\n",
    "                 alpha=opacity,\n",
    "                 color='b',\n",
    "                 error_kw=error_config,\n",
    "                 label='Full')\n",
    "\n",
    "rects2 = plt.bar(index + bar_width, threshold_new_full, bar_width,\n",
    "                 alpha=opacity,\n",
    "                 color='r',\n",
    "                 error_kw=error_config,\n",
    "                 label='Full_NewThreshold')\n",
    "\n",
    "plt.xlabel('Algorithm')\n",
    "plt.ylabel('Accuracy')\n",
    "plt.title('Comparison of Accuracries For Full Data (Different Threshold)')\n",
    "plt.xticks(index + bar_width / 3, names,rotation=50)\n",
    "plt.legend()\n",
    "plt.tight_layout()\n",
    "plt.show()"
   ]
  },
  {
   "cell_type": "markdown",
   "metadata": {},
   "source": [
    "**Conclusion**<br>\n",
    "1. Based on the above graphs we can observe that changing the thresolid from 0.1 to median 0.15 is better for full data as full data with new thresohold out performed all the corresponding algorithms .\n",
    "2. For Clean data the changing of threshold made logistic and LinearSVC perform equally whereas RBF SVM performs pooperly."
   ]
  },
  {
   "cell_type": "markdown",
   "metadata": {},
   "source": [
    "**Task-6***"
   ]
  },
  {
   "cell_type": "markdown",
   "metadata": {},
   "source": [
    "**B. KNN Classification**<br>\n",
    "\n",
    "K nearest neighbors is a simple algorithm that stores all available cases and classifies new cases based on a similarity measure.Whenever Whenever we have a new point to classify, we find its K nearest neighbors from the training data. The distance is calculated using one of measures i.e Euclidean Distance, Minkowski Distance, Mahalanobis Distance\n",
    "\n",
    "Algorithm:\n",
    "1. For each training example pair x,f(x), add the example to the list of training examples.\n",
    "2. Given a query instance xq to be classified, let x1,x2,...,xk denotes the k instances from training examples that are neareast to xq.\n",
    "3. Return to class that represent the maximum of the k instances."
   ]
  },
  {
   "cell_type": "markdown",
   "metadata": {},
   "source": [
    "** AdaBoost **<br>\n",
    "\n",
    "AdaBoost Algorithm\n",
    "At each iteration, choose the classifier k which minimizes the total weighted error\n",
    "<br><center>\n",
    "<img src=\"https://wikimedia.org/api/rest_v1/media/math/render/svg/b9e7cfc4e97541226a30366155aaa314442407a2\"  height=\"100\" width=\"100\"></center><br> \n",
    "use this to calculate the error rate\n",
    "<br><center>\n",
    "<img src=\"https://wikimedia.org/api/rest_v1/media/math/render/svg/3038afd7e0d7886ca7a09ea30da90b172a3f2a9b\"  height=\"200\" width=\"200\"></center><br> \n",
    "use this to calculate the weight \n",
    "<br><center>\n",
    "<img src=\"https://wikimedia.org/api/rest_v1/media/math/render/svg/b9e7cfc4e97541226a30366155aaa314442407a2\"  height=\"100\" width=\"100\"></center><br> \n",
    "and finally use this to improve the boosted classifier\n",
    "<br><center>\n",
    "<img src=\"https://wikimedia.org/api/rest_v1/media/math/render/svg/1b91c8f8a506f0742bd303f0b4b26e7d941b0212\"  height=\"200\" width=\"200\"></center><br>\n",
    "dataset {(x1,y1),...,(xN,yN)} Where, xi has an associated class yi ϵ {-1,1} \n",
    "\n",
    "and a set of weak classifiers {k1,...,kL} Where, kj(xi) ϵ {-1,1}"
   ]
  },
  {
   "cell_type": "code",
   "execution_count": null,
   "metadata": {
    "collapsed": true
   },
   "outputs": [],
   "source": [
    "names = [\"Nearest Neighbors\", \"Linear SVM\", \"RBF SVM\", \"Gaussian Process\",\n",
    "         \"Decision Tree\", \"Random Forest\", \"Neural Net\", \"AdaBoost\",\n",
    "         \"Naive Bayes\"]\n",
    "\n",
    "classifiers = [\n",
    "    KNeighborsClassifier(3),\n",
    "    SVC(kernel=\"linear\", C=0.025),\n",
    "    SVC(gamma=2, C=1),\n",
    "    GaussianProcessClassifier(1.0 * RBF(1.0), warm_start=True),\n",
    "    DecisionTreeClassifier(max_depth=5),\n",
    "    RandomForestClassifier(max_depth=5, n_estimators=10, max_features=1),\n",
    "    MLPClassifier(alpha=1),\n",
    "    AdaBoostClassifier(),\n",
    "    GaussianNB(),\n",
    "   ]\n",
    "\n",
    "\n",
    "cv = KFold(X.shape[0], 10, shuffle=False, random_state=33)\n",
    "print(\"Cleened Data Set\")\n",
    "for name, clf in zip(names, classifiers):\n",
    "        cv_score_accuracy = cross_val_score(clf, X, Y, 1.0, 0.0),scoring='accuracy', cv=cv)\n",
    "        print(name,\"Accuracy :\",np.mean(cv_score_accuracy))\n",
    "print(\"Full Data Set\")\n",
    "for name, clf in zip(names, classifiers):\n",
    "        cv_score_accuracy = cross_val_score(clf, X_cleanned, ,scoring='accuracy', cv=cv)\n",
    "        print(name,\"Accuracy :\",np.mean(cv_score_accuracy))\n",
    "\n"
   ]
  },
  {
   "cell_type": "code",
   "execution_count": null,
   "metadata": {
    "collapsed": true
   },
   "outputs": [],
   "source": []
  }
 ],
 "metadata": {
  "kernelspec": {
   "display_name": "Python [default]",
   "language": "python",
   "name": "python3"
  },
  "language_info": {
   "codemirror_mode": {
    "name": "ipython",
    "version": 3
   },
   "file_extension": ".py",
   "mimetype": "text/x-python",
   "name": "python",
   "nbconvert_exporter": "python",
   "pygments_lexer": "ipython3",
   "version": "3.5.2"
  }
 },
 "nbformat": 4,
 "nbformat_minor": 2
}
